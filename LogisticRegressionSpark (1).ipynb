{
  "nbformat": 4,
  "nbformat_minor": 0,
  "metadata": {
    "colab": {
      "name": "LogisticRegressionSpark.ipynb",
      "provenance": [],
      "collapsed_sections": []
    },
    "kernelspec": {
      "name": "python3",
      "display_name": "Python 3"
    },
    "language_info": {
      "name": "python"
    }
  },
  "cells": [
    {
      "cell_type": "markdown",
      "metadata": {
        "id": "vESLzEJCbjrr"
      },
      "source": [
        "Classification, topic prediction :\n",
        "\n",
        "- pre traitement de texte : tokenization, stopword, vectorization \n",
        "- Text classification \n",
        "- Logistic regression model\n",
        "- Prediction "
      ]
    },
    {
      "cell_type": "markdown",
      "metadata": {
        "id": "6TzvQ2uubwzq"
      },
      "source": [
        "Initialiser les librairies "
      ]
    },
    {
      "cell_type": "code",
      "metadata": {
        "colab": {
          "base_uri": "https://localhost:8080/"
        },
        "id": "Qqjhc4Rcb1Pn",
        "outputId": "e022b3b5-7cb1-492f-9208-54905e9a8eca"
      },
      "source": [
        "!pip install findspark \n",
        "!pip install pyspark "
      ],
      "execution_count": null,
      "outputs": [
        {
          "output_type": "stream",
          "name": "stdout",
          "text": [
            "Requirement already satisfied: findspark in /usr/local/lib/python3.7/dist-packages (1.4.2)\n",
            "Requirement already satisfied: pyspark in /usr/local/lib/python3.7/dist-packages (3.2.0)\n",
            "Requirement already satisfied: py4j==0.10.9.2 in /usr/local/lib/python3.7/dist-packages (from pyspark) (0.10.9.2)\n"
          ]
        }
      ]
    },
    {
      "cell_type": "code",
      "metadata": {
        "id": "qaoNHub8b1zR"
      },
      "source": [
        "import pyspark \n",
        "import findspark"
      ],
      "execution_count": null,
      "outputs": []
    },
    {
      "cell_type": "code",
      "metadata": {
        "id": "Q1KjUm-8cISh"
      },
      "source": [
        "from pyspark.sql import SparkSession\n",
        "spark = SparkSession.builder.appName(\"TextClassifier\").master(\"local[*]\").getOrCreate()"
      ],
      "execution_count": null,
      "outputs": []
    },
    {
      "cell_type": "code",
      "metadata": {
        "colab": {
          "base_uri": "https://localhost:8080/",
          "height": 219
        },
        "id": "manjNn71cK0F",
        "outputId": "fbb6a7ae-6bf1-44c0-8298-35e80995b8b2"
      },
      "source": [
        "spark"
      ],
      "execution_count": null,
      "outputs": [
        {
          "output_type": "execute_result",
          "data": {
            "text/html": [
              "\n",
              "            <div>\n",
              "                <p><b>SparkSession - in-memory</b></p>\n",
              "                \n",
              "        <div>\n",
              "            <p><b>SparkContext</b></p>\n",
              "\n",
              "            <p><a href=\"http://d436d69eccb6:4040\">Spark UI</a></p>\n",
              "\n",
              "            <dl>\n",
              "              <dt>Version</dt>\n",
              "                <dd><code>v3.2.0</code></dd>\n",
              "              <dt>Master</dt>\n",
              "                <dd><code>local[*]</code></dd>\n",
              "              <dt>AppName</dt>\n",
              "                <dd><code>TextClassifier</code></dd>\n",
              "            </dl>\n",
              "        </div>\n",
              "        \n",
              "            </div>\n",
              "        "
            ],
            "text/plain": [
              "<pyspark.sql.session.SparkSession at 0x7f73ace33290>"
            ]
          },
          "metadata": {},
          "execution_count": 42
        }
      ]
    },
    {
      "cell_type": "markdown",
      "metadata": {
        "id": "r_aFjhvQchWv"
      },
      "source": [
        "Load the dataset "
      ]
    },
    {
      "cell_type": "code",
      "metadata": {
        "id": "DczUJjcdcsbJ"
      },
      "source": [
        "df = spark.read.csv(\"/content/sample_data/udemy_dataset.csv\",header=True,inferSchema=True)"
      ],
      "execution_count": null,
      "outputs": []
    },
    {
      "cell_type": "code",
      "metadata": {
        "colab": {
          "base_uri": "https://localhost:8080/"
        },
        "id": "_bcUshxoc5b8",
        "outputId": "98cecf20-d863-4288-c095-2e75344ac741"
      },
      "source": [
        "df.show()"
      ],
      "execution_count": null,
      "outputs": [
        {
          "output_type": "stream",
          "name": "stdout",
          "text": [
            "+---+---------+--------------------+--------------------+-------+-----+---------------+-----------+------------+------------------+----------------+--------------------+----------------+--------------------+\n",
            "|_c0|course_id|        course_title|                 url|is_paid|price|num_subscribers|num_reviews|num_lectures|             level|content_duration| published_timestamp|         subject|  clean_course_title|\n",
            "+---+---------+--------------------+--------------------+-------+-----+---------------+-----------+------------+------------------+----------------+--------------------+----------------+--------------------+\n",
            "|  0|  1070968|Ultimate Investme...|https://www.udemy...|   True|  200|           2147|         23|          51|        All Levels|       1.5 hours|2017-01-18T20:58:58Z|Business Finance|Ultimate Investme...|\n",
            "|  1|  1113822|Complete GST Cour...|https://www.udemy...|   True|   75|           2792|        923|         274|        All Levels|        39 hours|2017-03-09T16:34:20Z|Business Finance|Complete GST Cour...|\n",
            "|  2|  1006314|Financial Modelin...|https://www.udemy...|   True|   45|           2174|         74|          51|Intermediate Level|       2.5 hours|2016-12-19T19:26:30Z|Business Finance|Financial Modelin...|\n",
            "|  3|  1210588|Beginner to Pro -...|https://www.udemy...|   True|   95|           2451|         11|          36|        All Levels|         3 hours|2017-05-30T20:07:24Z|Business Finance|Beginner Pro  Fin...|\n",
            "|  4|  1011058|How To Maximize Y...|https://www.udemy...|   True|  200|           1276|         45|          26|Intermediate Level|         2 hours|2016-12-13T14:57:18Z|Business Finance|Maximize Profits ...|\n",
            "|  5|   192870|Trading Penny Sto...|https://www.udemy...|   True|  150|           9221|        138|          25|        All Levels|         3 hours|2014-05-02T15:13:30Z|Business Finance|Trading Penny Sto...|\n",
            "|  6|   739964|Investing And Tra...|https://www.udemy...|   True|   65|           1540|        178|          26|    Beginner Level|          1 hour|2016-02-21T18:23:12Z|Business Finance|Investing Trading...|\n",
            "|  7|   403100|Trading Stock Cha...|https://www.udemy...|   True|   95|           2917|        148|          23|        All Levels|       2.5 hours|2015-01-30T22:13:03Z|Business Finance|Trading Stock Cha...|\n",
            "|  8|   476268|Options Trading 3...|https://www.udemy...|   True|  195|           5172|         34|          38|      Expert Level|       2.5 hours|2015-05-28T00:14:03Z|Business Finance|Options Trading 3...|\n",
            "|  9|  1167710|The Only Investme...|https://www.udemy...|   True|  200|            827|         14|          15|        All Levels|          1 hour|2017-04-18T18:13:32Z|Business Finance|Investment Strate...|\n",
            "| 10|   592338|Forex Trading Sec...|https://www.udemy...|   True|  200|           4284|         93|          76|        All Levels|         5 hours|2015-09-11T16:47:02Z|Business Finance|Forex Trading Sec...|\n",
            "| 11|   975046|Trading Options W...|https://www.udemy...|   True|  200|           1380|         42|          17|        All Levels|          1 hour|2016-10-18T22:52:31Z|Business Finance|Trading Options M...|\n",
            "| 12|   742602|Financial Managem...|https://www.udemy...|   True|   30|           3607|         21|          19|        All Levels|       1.5 hours|2016-02-03T18:04:01Z|Business Finance|Financial Managem...|\n",
            "| 13|   794151|Forex Trading Cou...|https://www.udemy...|   True|  195|           4061|         52|          16|        All Levels|         2 hours|2016-03-16T15:40:19Z|Business Finance|Forex Trading Cou...|\n",
            "| 14|  1196544|Python Algo Tradi...|https://www.udemy...|   True|  200|            294|         19|          42|        All Levels|         7 hours|2017-04-28T16:41:44Z|Business Finance|Python Algo Tradi...|\n",
            "| 15|   504036|Short Selling: Le...|https://www.udemy...|   True|   75|           2276|        106|          19|Intermediate Level|       1.5 hours|2015-06-22T21:18:35Z|Business Finance|Short Selling Lea...|\n",
            "| 16|   719698|Basic Technical A...|https://www.udemy...|   True|   20|           4919|         79|          16|    Beginner Level|       1.5 hours|2016-01-08T17:21:26Z|Business Finance|Basic Technical A...|\n",
            "| 17|   564966|The Complete Char...|https://www.udemy...|   True|  200|           2666|        115|          52|        All Levels|         4 hours|2015-08-10T21:07:35Z|Business Finance|Complete Chart Pa...|\n",
            "| 18|   606928|7 Deadly Mistakes...|https://www.udemy...|   True|   50|           5354|         24|          23|        All Levels|       1.5 hours|2015-09-21T18:10:34Z|Business Finance|7 Deadly Mistakes...|\n",
            "| 19|    58977|Financial Stateme...|https://www.udemy...|   True|   95|           8095|        249|          12|    Beginner Level|         35 mins|2013-06-09T00:21:26Z|Business Finance|Financial Stateme...|\n",
            "+---+---------+--------------------+--------------------+-------+-----+---------------+-----------+------------+------------------+----------------+--------------------+----------------+--------------------+\n",
            "only showing top 20 rows\n",
            "\n"
          ]
        }
      ]
    },
    {
      "cell_type": "code",
      "metadata": {
        "colab": {
          "base_uri": "https://localhost:8080/"
        },
        "id": "tQovqBbbdAFE",
        "outputId": "01bd1d5f-3310-4312-f258-f7f0745d0f45"
      },
      "source": [
        "df.columns"
      ],
      "execution_count": null,
      "outputs": [
        {
          "output_type": "execute_result",
          "data": {
            "text/plain": [
              "['_c0',\n",
              " 'course_id',\n",
              " 'course_title',\n",
              " 'url',\n",
              " 'is_paid',\n",
              " 'price',\n",
              " 'num_subscribers',\n",
              " 'num_reviews',\n",
              " 'num_lectures',\n",
              " 'level',\n",
              " 'content_duration',\n",
              " 'published_timestamp',\n",
              " 'subject',\n",
              " 'clean_course_title']"
            ]
          },
          "metadata": {},
          "execution_count": 45
        }
      ]
    },
    {
      "cell_type": "markdown",
      "metadata": {
        "id": "koVebJvVdFb6"
      },
      "source": [
        "Select columns of interest : description of the course and the course class "
      ]
    },
    {
      "cell_type": "markdown",
      "metadata": {
        "id": "LuMhNZtFdQsB"
      },
      "source": [
        "V"
      ]
    },
    {
      "cell_type": "code",
      "metadata": {
        "colab": {
          "base_uri": "https://localhost:8080/"
        },
        "id": "FEB_FRY6dBm_",
        "outputId": "4a1d2631-5f21-4e45-c5bd-35101a05ec25"
      },
      "source": [
        "df.select('course_title','subject').show()"
      ],
      "execution_count": null,
      "outputs": [
        {
          "output_type": "stream",
          "name": "stdout",
          "text": [
            "+--------------------+----------------+\n",
            "|        course_title|         subject|\n",
            "+--------------------+----------------+\n",
            "|Ultimate Investme...|Business Finance|\n",
            "|Complete GST Cour...|Business Finance|\n",
            "|Financial Modelin...|Business Finance|\n",
            "|Beginner to Pro -...|Business Finance|\n",
            "|How To Maximize Y...|Business Finance|\n",
            "|Trading Penny Sto...|Business Finance|\n",
            "|Investing And Tra...|Business Finance|\n",
            "|Trading Stock Cha...|Business Finance|\n",
            "|Options Trading 3...|Business Finance|\n",
            "|The Only Investme...|Business Finance|\n",
            "|Forex Trading Sec...|Business Finance|\n",
            "|Trading Options W...|Business Finance|\n",
            "|Financial Managem...|Business Finance|\n",
            "|Forex Trading Cou...|Business Finance|\n",
            "|Python Algo Tradi...|Business Finance|\n",
            "|Short Selling: Le...|Business Finance|\n",
            "|Basic Technical A...|Business Finance|\n",
            "|The Complete Char...|Business Finance|\n",
            "|7 Deadly Mistakes...|Business Finance|\n",
            "|Financial Stateme...|Business Finance|\n",
            "+--------------------+----------------+\n",
            "only showing top 20 rows\n",
            "\n"
          ]
        }
      ]
    },
    {
      "cell_type": "code",
      "metadata": {
        "id": "bQMbCA_YhJf5"
      },
      "source": [
        "df = df.select('course_title','subject')"
      ],
      "execution_count": null,
      "outputs": []
    },
    {
      "cell_type": "markdown",
      "metadata": {
        "id": "gsbxNWMDdS8z"
      },
      "source": [
        "Vérifier les valeurs nulles "
      ]
    },
    {
      "cell_type": "code",
      "metadata": {
        "colab": {
          "base_uri": "https://localhost:8080/"
        },
        "id": "DZdmXGpbdVVi",
        "outputId": "53cb6baa-a6b7-4612-a465-3d15f445cbc9"
      },
      "source": [
        "df.toPandas()['subject'].isnull().sum()"
      ],
      "execution_count": null,
      "outputs": [
        {
          "output_type": "execute_result",
          "data": {
            "text/plain": [
              "6"
            ]
          },
          "metadata": {},
          "execution_count": 48
        }
      ]
    },
    {
      "cell_type": "markdown",
      "metadata": {
        "id": "PaSTBEDSdaZ_"
      },
      "source": [
        "Supprimer les valeurs nulles "
      ]
    },
    {
      "cell_type": "code",
      "metadata": {
        "id": "IUJta7mcdcWG"
      },
      "source": [
        "df = df.dropna(subset=('subject'))"
      ],
      "execution_count": null,
      "outputs": []
    },
    {
      "cell_type": "markdown",
      "metadata": {
        "id": "qyR3eeecdg_C"
      },
      "source": [
        "Partie NLP : extraction des caractéristiques à partir du texte, vectorisation ou feature engineering "
      ]
    },
    {
      "cell_type": "code",
      "metadata": {
        "id": "aPuHQO7ndoOv"
      },
      "source": [
        "import pyspark.ml.feature"
      ],
      "execution_count": null,
      "outputs": []
    },
    {
      "cell_type": "markdown",
      "metadata": {
        "id": "RJcZ3RnVdyks"
      },
      "source": [
        "spark offre une librairie riche de features prédéfinis "
      ]
    },
    {
      "cell_type": "code",
      "metadata": {
        "colab": {
          "base_uri": "https://localhost:8080/"
        },
        "id": "xIJcW5M4duZL",
        "outputId": "d1787697-2a50-4260-b82e-ac352d30e790"
      },
      "source": [
        "dir(pyspark.ml.feature)"
      ],
      "execution_count": null,
      "outputs": [
        {
          "output_type": "execute_result",
          "data": {
            "text/plain": [
              "['Binarizer',\n",
              " 'BucketedRandomProjectionLSH',\n",
              " 'BucketedRandomProjectionLSHModel',\n",
              " 'Bucketizer',\n",
              " 'ChiSqSelector',\n",
              " 'ChiSqSelectorModel',\n",
              " 'CountVectorizer',\n",
              " 'CountVectorizerModel',\n",
              " 'DCT',\n",
              " 'ElementwiseProduct',\n",
              " 'FeatureHasher',\n",
              " 'HasFeaturesCol',\n",
              " 'HasHandleInvalid',\n",
              " 'HasInputCol',\n",
              " 'HasInputCols',\n",
              " 'HasLabelCol',\n",
              " 'HasMaxIter',\n",
              " 'HasNumFeatures',\n",
              " 'HasOutputCol',\n",
              " 'HasOutputCols',\n",
              " 'HasRelativeError',\n",
              " 'HasSeed',\n",
              " 'HasStepSize',\n",
              " 'HasThreshold',\n",
              " 'HasThresholds',\n",
              " 'HashingTF',\n",
              " 'IDF',\n",
              " 'IDFModel',\n",
              " 'Imputer',\n",
              " 'ImputerModel',\n",
              " 'IndexToString',\n",
              " 'Interaction',\n",
              " 'JavaEstimator',\n",
              " 'JavaMLReadable',\n",
              " 'JavaMLWritable',\n",
              " 'JavaModel',\n",
              " 'JavaParams',\n",
              " 'JavaTransformer',\n",
              " 'MaxAbsScaler',\n",
              " 'MaxAbsScalerModel',\n",
              " 'MinHashLSH',\n",
              " 'MinHashLSHModel',\n",
              " 'MinMaxScaler',\n",
              " 'MinMaxScalerModel',\n",
              " 'NGram',\n",
              " 'Normalizer',\n",
              " 'OneHotEncoder',\n",
              " 'OneHotEncoderModel',\n",
              " 'PCA',\n",
              " 'PCAModel',\n",
              " 'Param',\n",
              " 'Params',\n",
              " 'PolynomialExpansion',\n",
              " 'QuantileDiscretizer',\n",
              " 'RFormula',\n",
              " 'RFormulaModel',\n",
              " 'RegexTokenizer',\n",
              " 'RobustScaler',\n",
              " 'RobustScalerModel',\n",
              " 'SQLTransformer',\n",
              " 'SparkContext',\n",
              " 'StandardScaler',\n",
              " 'StandardScalerModel',\n",
              " 'StopWordsRemover',\n",
              " 'StringIndexer',\n",
              " 'StringIndexerModel',\n",
              " 'Tokenizer',\n",
              " 'TypeConverters',\n",
              " 'UnivariateFeatureSelector',\n",
              " 'UnivariateFeatureSelectorModel',\n",
              " 'VarianceThresholdSelector',\n",
              " 'VarianceThresholdSelectorModel',\n",
              " 'VectorAssembler',\n",
              " 'VectorIndexer',\n",
              " 'VectorIndexerModel',\n",
              " 'VectorSizeHint',\n",
              " 'VectorSlicer',\n",
              " 'Word2Vec',\n",
              " 'Word2VecModel',\n",
              " '_BucketedRandomProjectionLSHParams',\n",
              " '_CountVectorizerParams',\n",
              " '_IDFParams',\n",
              " '_ImputerParams',\n",
              " '_LSH',\n",
              " '_LSHModel',\n",
              " '_LSHParams',\n",
              " '_MaxAbsScalerParams',\n",
              " '_MinMaxScalerParams',\n",
              " '_OneHotEncoderParams',\n",
              " '_PCAParams',\n",
              " '_RFormulaParams',\n",
              " '_RobustScalerParams',\n",
              " '_Selector',\n",
              " '_SelectorModel',\n",
              " '_SelectorParams',\n",
              " '_StandardScalerParams',\n",
              " '_StringIndexerParams',\n",
              " '_UnivariateFeatureSelectorParams',\n",
              " '_VarianceThresholdSelectorParams',\n",
              " '_VectorIndexerParams',\n",
              " '_Word2VecParams',\n",
              " '__all__',\n",
              " '__builtins__',\n",
              " '__cached__',\n",
              " '__doc__',\n",
              " '__file__',\n",
              " '__loader__',\n",
              " '__name__',\n",
              " '__package__',\n",
              " '__spec__',\n",
              " '_convert_to_vector',\n",
              " '_jvm',\n",
              " 'inherit_doc',\n",
              " 'keyword_only',\n",
              " 'since']"
            ]
          },
          "metadata": {},
          "execution_count": 51
        }
      ]
    },
    {
      "cell_type": "markdown",
      "metadata": {
        "id": "eBj_ocpMeBSn"
      },
      "source": [
        "Tokenizer, StopWordsRemover, IDF, CountVectorizer"
      ]
    },
    {
      "cell_type": "code",
      "metadata": {
        "id": "lVqA5Ut1eILN"
      },
      "source": [
        "from pyspark.ml.feature import Tokenizer,StopWordsRemover,CountVectorizer,IDF"
      ],
      "execution_count": null,
      "outputs": []
    },
    {
      "cell_type": "markdown",
      "metadata": {
        "id": "v81Gkj50ejy9"
      },
      "source": [
        "Définir et exécuter le pipline de prétraitement de texte et d'extraction de caractéristiques "
      ]
    },
    {
      "cell_type": "code",
      "metadata": {
        "id": "aTXNC9ikeo5w"
      },
      "source": [
        "tokenizer = Tokenizer(inputCol='course_title',outputCol='mytokens')\n",
        "stopwords_remover = StopWordsRemover(inputCol='mytokens',outputCol='filtered_tokens')\n",
        "vectorizer = CountVectorizer(inputCol='filtered_tokens',outputCol='rawFeatures')\n",
        "idf = IDF(inputCol='rawFeatures',outputCol='vectorizedFeatures')\n"
      ],
      "execution_count": null,
      "outputs": []
    },
    {
      "cell_type": "markdown",
      "metadata": {
        "id": "2HGCumJtevhA"
      },
      "source": [
        "Ajouter le label : Add label (class to the dataset), les classes sont définies dans le dataset par nom de cours (ex. Business Finance), on utiliser StringIndex pour transformer chaque classe de cours en classe ou label (0,1,2...)"
      ]
    },
    {
      "cell_type": "code",
      "metadata": {
        "id": "6-UxBllVe0tH"
      },
      "source": [
        "from pyspark.ml.feature import StringIndexer"
      ],
      "execution_count": null,
      "outputs": []
    },
    {
      "cell_type": "code",
      "metadata": {
        "id": "-qzmLzzue1jI"
      },
      "source": [
        "labelEncoder = StringIndexer(inputCol='subject',outputCol='label').fit(df)"
      ],
      "execution_count": null,
      "outputs": []
    },
    {
      "cell_type": "code",
      "metadata": {
        "colab": {
          "base_uri": "https://localhost:8080/"
        },
        "id": "SV6S9Ga8e6cJ",
        "outputId": "5296985b-fcf5-484b-b528-27c0b55eefd3"
      },
      "source": [
        "labelEncoder.transform(df).show(5)"
      ],
      "execution_count": null,
      "outputs": [
        {
          "output_type": "stream",
          "name": "stdout",
          "text": [
            "+--------------------+----------------+-----+\n",
            "|        course_title|         subject|label|\n",
            "+--------------------+----------------+-----+\n",
            "|Ultimate Investme...|Business Finance|  1.0|\n",
            "|Complete GST Cour...|Business Finance|  1.0|\n",
            "|Financial Modelin...|Business Finance|  1.0|\n",
            "|Beginner to Pro -...|Business Finance|  1.0|\n",
            "|How To Maximize Y...|Business Finance|  1.0|\n",
            "+--------------------+----------------+-----+\n",
            "only showing top 5 rows\n",
            "\n"
          ]
        }
      ]
    },
    {
      "cell_type": "markdown",
      "metadata": {
        "id": "F8NMcxB6fH5w"
      },
      "source": [
        "Dictionnaire de labels Nous avons 4 classes, donc 4 labels un label par classe : Web Development 0, Business Finance 1 Musical Instruments 2 et Graphic Design 3 "
      ]
    },
    {
      "cell_type": "code",
      "metadata": {
        "id": "m7CkVQ2HfKr1"
      },
      "source": [
        "label_dict = {'Web Development':0.0,\n",
        " 'Business Finance':1.0,\n",
        " 'Musical Instruments':2.0,\n",
        " 'Graphic Design':3.0}"
      ],
      "execution_count": null,
      "outputs": []
    },
    {
      "cell_type": "markdown",
      "metadata": {
        "id": "1mEku2F3faNp"
      },
      "source": [
        "Ajouter ces labels au dataset "
      ]
    },
    {
      "cell_type": "code",
      "metadata": {
        "id": "NZK_dqRdfcnt"
      },
      "source": [
        "df = labelEncoder.transform(df)"
      ],
      "execution_count": null,
      "outputs": []
    },
    {
      "cell_type": "code",
      "metadata": {
        "colab": {
          "base_uri": "https://localhost:8080/"
        },
        "id": "IR4wZjBhfi4u",
        "outputId": "d2bec550-c297-4868-e4df-5ed2e74d1470"
      },
      "source": [
        "df.show(5)"
      ],
      "execution_count": null,
      "outputs": [
        {
          "output_type": "stream",
          "name": "stdout",
          "text": [
            "+--------------------+----------------+-----+\n",
            "|        course_title|         subject|label|\n",
            "+--------------------+----------------+-----+\n",
            "|Ultimate Investme...|Business Finance|  1.0|\n",
            "|Complete GST Cour...|Business Finance|  1.0|\n",
            "|Financial Modelin...|Business Finance|  1.0|\n",
            "|Beginner to Pro -...|Business Finance|  1.0|\n",
            "|How To Maximize Y...|Business Finance|  1.0|\n",
            "+--------------------+----------------+-----+\n",
            "only showing top 5 rows\n",
            "\n"
          ]
        }
      ]
    },
    {
      "cell_type": "markdown",
      "metadata": {
        "id": "vKeiW5iLfvIq"
      },
      "source": [
        "Machine learning \n",
        "\n",
        "- split the data \n",
        "- Logistic Regression \n",
        "- Définir un modèle \n",
        "- Construire le pipline "
      ]
    },
    {
      "cell_type": "code",
      "metadata": {
        "id": "5cE24iMdgAOY"
      },
      "source": [
        "(trainDF,testDF) = df.randomSplit((0.7,0.3),seed=42)"
      ],
      "execution_count": null,
      "outputs": []
    },
    {
      "cell_type": "code",
      "metadata": {
        "id": "pftw9OJfgA3A"
      },
      "source": [
        "from pyspark.ml.classification import LogisticRegression"
      ],
      "execution_count": null,
      "outputs": []
    },
    {
      "cell_type": "code",
      "metadata": {
        "id": "OIITjujZgDNF"
      },
      "source": [
        "lr = LogisticRegression(featuresCol='vectorizedFeatures',labelCol='label')"
      ],
      "execution_count": null,
      "outputs": []
    },
    {
      "cell_type": "markdown",
      "metadata": {
        "id": "fireWmtDgNZw"
      },
      "source": [
        "The pipeline "
      ]
    },
    {
      "cell_type": "code",
      "metadata": {
        "id": "Vnr4aFdfgOzF"
      },
      "source": [
        "from pyspark.ml import Pipeline"
      ],
      "execution_count": null,
      "outputs": []
    },
    {
      "cell_type": "markdown",
      "metadata": {
        "id": "NbkuVDcKgilb"
      },
      "source": [
        "Définir les étapes de prétraitement et de vectorisation dans un pipeline "
      ]
    },
    {
      "cell_type": "code",
      "metadata": {
        "id": "XEWBtA8gggrw"
      },
      "source": [
        "pipeline = Pipeline(stages=[tokenizer,stopwords_remover,vectorizer,idf,lr])"
      ],
      "execution_count": null,
      "outputs": []
    },
    {
      "cell_type": "markdown",
      "metadata": {
        "id": "7JVJiJsEgr0o"
      },
      "source": [
        "Le modèle : appliquer le modèle sur le texte traité en suivant le pipline "
      ]
    },
    {
      "cell_type": "code",
      "metadata": {
        "id": "k1eewK6vgs0l"
      },
      "source": [
        "lr_model = pipeline.fit(trainDF)"
      ],
      "execution_count": null,
      "outputs": []
    },
    {
      "cell_type": "markdown",
      "metadata": {
        "id": "X4nklmUsg2VG"
      },
      "source": [
        "Tester le modèle "
      ]
    },
    {
      "cell_type": "code",
      "metadata": {
        "id": "aVENyqmqg3gv"
      },
      "source": [
        "predictions = lr_model.transform(testDF)"
      ],
      "execution_count": null,
      "outputs": []
    },
    {
      "cell_type": "code",
      "metadata": {
        "colab": {
          "base_uri": "https://localhost:8080/"
        },
        "id": "UHJKFOsKg5Ib",
        "outputId": "537aabc8-1617-4da2-a054-1ce56652e273"
      },
      "source": [
        "predictions.show()"
      ],
      "execution_count": null,
      "outputs": [
        {
          "output_type": "stream",
          "name": "stdout",
          "text": [
            "+--------------------+-------------------+-----+--------------------+--------------------+--------------------+--------------------+--------------------+--------------------+----------+\n",
            "|        course_title|            subject|label|            mytokens|     filtered_tokens|         rawFeatures|  vectorizedFeatures|       rawPrediction|         probability|prediction|\n",
            "+--------------------+-------------------+-----+--------------------+--------------------+--------------------+--------------------+--------------------+--------------------+----------+\n",
            "|#12 Hand Coordina...|Musical Instruments|  2.0|[#12, hand, coord...|[#12, hand, coord...|(3670,[394,491,60...|(3670,[394,491,60...|[5.54102656947194...|[0.28268355866992...|       2.0|\n",
            "|#7 Piano Hand Coo...|Musical Instruments|  2.0|[#7, piano, hand,...|[#7, piano, hand,...|(3670,[9,13,60,23...|(3670,[9,13,60,23...|[-6.0823322866493...|[1.03215810564425...|       2.0|\n",
            "|'Greensleeves' Cr...|Musical Instruments|  2.0|['greensleeves', ...|['greensleeves', ...|(3670,[6,9,45,375...|(3670,[6,9,45,375...|[-1.0421312486143...|[1.23270090603942...|       2.0|\n",
            "|* An Integrated A...|   Business Finance|  1.0|[*, an, integrate...|[*, integrated, a...|(3670,[23,75,435,...|(3670,[23,75,435,...|[-2.8211817225605...|[4.77760520281109...|       1.0|\n",
            "|         1 Hour HTML|    Web Development|  0.0|     [1, hour, html]|     [1, hour, html]|(3670,[24,36,110]...|(3670,[24,36,110]...|[21.7088196969888...|[0.99999998997280...|       0.0|\n",
            "|   1 Hour JavaScript|    Web Development|  0.0|[1, hour, javascr...|[1, hour, javascr...|(3670,[18,36,110]...|(3670,[18,36,110]...|[20.0054038102897...|[0.99999996031555...|       0.0|\n",
            "|       1 hour jQuery|    Web Development|  0.0|   [1, hour, jquery]|   [1, hour, jquery]|(3670,[36,62,110]...|(3670,[36,62,110]...|[18.0923732272825...|[0.99999972290786...|       0.0|\n",
            "|101 Awesome Rocka...|Musical Instruments|  2.0|[101, awesome, ro...|[101, awesome, ro...|(3670,[7,233,291,...|(3670,[7,233,291,...|[-8.4472424738851...|[4.30624176482269...|       2.0|\n",
            "|15  Motion Graphi...|     Graphic Design|  3.0|[15, , motion, gr...|[15, , motion, gr...|(3670,[35,90,434,...|(3670,[35,90,434,...|[-24.070755029931...|[7.95180521110234...|       3.0|\n",
            "|150 Rock Guitar L...|Musical Instruments|  2.0|[150, rock, guita...|[150, rock, guita...|(3670,[7,145,175,...|(3670,[7,145,175,...|[-6.0537484534720...|[8.42550616609558...|       2.0|\n",
            "|16 Guitar Chords ...|Musical Instruments|  2.0|[16, guitar, chor...|[16, guitar, chor...|(3670,[0,7,129,17...|(3670,[0,7,129,17...|[-6.3817794400757...|[7.02018495570868...|       2.0|\n",
            "|2. Principles of ...|   Business Finance|  1.0|[2., principles, ...|[2., principles, ...|(3670,[0,41,102,3...|(3670,[0,41,102,3...|[0.16718557356096...|[2.62404806736574...|       1.0|\n",
            "|3 Little Pigs: A ...|   Business Finance|  1.0|[3, little, pigs:...|[3, little, pigs:...|(3670,[2,11,60,14...|(3670,[2,11,60,14...|[-7.8293554277832...|[5.14413416167043...|       1.0|\n",
            "|3 documentos clav...|   Business Finance|  1.0|[3, documentos, c...|[3, documentos, c...|(3670,[60,89,165,...|(3670,[60,89,165,...|[4.03455614229712...|[0.00472104046720...|       1.0|\n",
            "|3. Compound Inter...|   Business Finance|  1.0|[3., compound, in...|[3., compound, in...| (3670,[1092],[1.0])|(3670,[1092],[6.7...|[1.89940744271300...|[4.28050172951171...|       1.0|\n",
            "|31 Day Guitar Cha...|Musical Instruments|  2.0|[31, day, guitar,...|[31, day, guitar,...|(3670,[7,112,1870...|(3670,[7,112,1870...|[-9.0086539298140...|[1.15163926615987...|       2.0|\n",
            "|3D Programming wi...|    Web Development|  0.0|[3d, programming,...|[3d, programming,...|(3670,[4,87,339],...|(3670,[4,87,339],...|[10.9077562491935...|[0.98967316390957...|       0.0|\n",
            "|4. Ordinary Simpl...|   Business Finance|  1.0|[4., ordinary, si...|[4., ordinary, si...|(3670,[38,102],[1...|(3670,[38,102],[3...|[2.57286792692779...|[3.77644801119863...|       1.0|\n",
            "|5 lecciones que t...|Musical Instruments|  2.0|[5, lecciones, qu...|[5, lecciones, qu...|(3670,[82,3515],[...|(3670,[82,3515],[...|[6.02547956888884...|[0.16529587719313...|       1.0|\n",
            "|6 Must Know Trick...|Musical Instruments|  2.0|[6, must, know, t...|[6, must, know, t...|(3670,[145,255,32...|(3670,[145,255,32...|[13.8525237289955...|[0.99589111984360...|       0.0|\n",
            "+--------------------+-------------------+-----+--------------------+--------------------+--------------------+--------------------+--------------------+--------------------+----------+\n",
            "only showing top 20 rows\n",
            "\n"
          ]
        }
      ]
    },
    {
      "cell_type": "markdown",
      "metadata": {
        "id": "numG56H8hpOa"
      },
      "source": [
        "Evaluation du modèle "
      ]
    },
    {
      "cell_type": "code",
      "metadata": {
        "id": "eZZl78jDhrOQ"
      },
      "source": [
        "from pyspark.ml.evaluation import MulticlassClassificationEvaluator"
      ],
      "execution_count": null,
      "outputs": []
    },
    {
      "cell_type": "code",
      "metadata": {
        "id": "6D5hjqxEht1m"
      },
      "source": [
        "evaluator = MulticlassClassificationEvaluator(labelCol='label',predictionCol='prediction',metricName='accuracy')"
      ],
      "execution_count": null,
      "outputs": []
    },
    {
      "cell_type": "code",
      "metadata": {
        "id": "mnrEqYrThxU1"
      },
      "source": [
        "accuracy = evaluator.evaluate(predictions)"
      ],
      "execution_count": null,
      "outputs": []
    },
    {
      "cell_type": "code",
      "metadata": {
        "colab": {
          "base_uri": "https://localhost:8080/"
        },
        "id": "7TNI9TRch0_a",
        "outputId": "f08428b4-dd4c-49c1-8703-cd2cd1115c17"
      },
      "source": [
        "accuracy"
      ],
      "execution_count": null,
      "outputs": [
        {
          "output_type": "execute_result",
          "data": {
            "text/plain": [
              "0.9173003802281369"
            ]
          },
          "metadata": {},
          "execution_count": 71
        }
      ]
    },
    {
      "cell_type": "markdown",
      "metadata": {
        "id": "2lm4jZ_sh4mz"
      },
      "source": [
        "Une prédiction sur une nouvelle entrée "
      ]
    },
    {
      "cell_type": "code",
      "metadata": {
        "id": "q1FurDC0h662"
      },
      "source": [
        "from pyspark.sql.types import StringType"
      ],
      "execution_count": null,
      "outputs": []
    },
    {
      "cell_type": "code",
      "metadata": {
        "id": "g3Z4bWyOh8y2"
      },
      "source": [
        "ex1 = spark.createDataFrame([\n",
        "    (\"Building Machine Learning Apps with Python and PySpark\",StringType())\n",
        "],\n",
        "[\"course_title\"]\n",
        "\n",
        ")"
      ],
      "execution_count": null,
      "outputs": []
    },
    {
      "cell_type": "code",
      "metadata": {
        "colab": {
          "base_uri": "https://localhost:8080/"
        },
        "id": "sUIEv_Tlh-e-",
        "outputId": "87b9f23a-9135-4f5d-b272-e79dd8bc2aff"
      },
      "source": [
        "ex1.show(truncate=False)"
      ],
      "execution_count": null,
      "outputs": [
        {
          "output_type": "stream",
          "name": "stdout",
          "text": [
            "+------------------------------------------------------+---+\n",
            "|course_title                                          |_2 |\n",
            "+------------------------------------------------------+---+\n",
            "|Building Machine Learning Apps with Python and PySpark|{} |\n",
            "+------------------------------------------------------+---+\n",
            "\n"
          ]
        }
      ]
    },
    {
      "cell_type": "code",
      "metadata": {
        "id": "IbIJ8zMPiDbk"
      },
      "source": [
        "pred_ex1 = lr_model.transform(ex1)"
      ],
      "execution_count": null,
      "outputs": []
    },
    {
      "cell_type": "code",
      "metadata": {
        "id": "mwrGiYyviFt7",
        "colab": {
          "base_uri": "https://localhost:8080/"
        },
        "outputId": "71058fdf-2115-4d8d-8e84-7d1240e52506"
      },
      "source": [
        "pred_ex1.show()"
      ],
      "execution_count": null,
      "outputs": [
        {
          "output_type": "stream",
          "name": "stdout",
          "text": [
            "+--------------------+---+--------------------+--------------------+--------------------+--------------------+--------------------+--------------------+----------+\n",
            "|        course_title| _2|            mytokens|     filtered_tokens|         rawFeatures|  vectorizedFeatures|       rawPrediction|         probability|prediction|\n",
            "+--------------------+---+--------------------+--------------------+--------------------+--------------------+--------------------+--------------------+----------+\n",
            "|Building Machine ...| {}|[building, machin...|[building, machin...|(3670,[57,79,115,...|(3670,[57,79,115,...|[14.1592174151876...|[0.99999485486233...|       0.0|\n",
            "+--------------------+---+--------------------+--------------------+--------------------+--------------------+--------------------+--------------------+----------+\n",
            "\n"
          ]
        }
      ]
    }
  ]
}