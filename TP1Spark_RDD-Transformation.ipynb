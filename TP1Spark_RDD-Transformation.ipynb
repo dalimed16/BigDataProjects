{
  "nbformat": 4,
  "nbformat_minor": 0,
  "metadata": {
    "colab": {
      "name": "TP1Spark (2).ipynb",
      "provenance": []
    },
    "kernelspec": {
      "name": "python3",
      "display_name": "Python 3"
    },
    "language_info": {
      "name": "python"
    }
  },
  "cells": [
    {
      "cell_type": "code",
      "metadata": {
        "colab": {
          "base_uri": "https://localhost:8080/"
        },
        "id": "wx8xIa2eVkwh",
        "outputId": "75544cd8-5b37-46a4-b27d-5785bf468ceb"
      },
      "source": [
        "!pip install findspark \n",
        "!wget 'https://ocw.mit.edu/ans7870/6/6.006/s08/lecturenotes/files/t8.shakespeare.txt'"
      ],
      "execution_count": null,
      "outputs": [
        {
          "output_type": "stream",
          "name": "stdout",
          "text": [
            "Collecting findspark\n",
            "  Downloading findspark-1.4.2-py2.py3-none-any.whl (4.2 kB)\n",
            "Installing collected packages: findspark\n",
            "Successfully installed findspark-1.4.2\n",
            "--2021-11-29 12:34:18--  https://ocw.mit.edu/ans7870/6/6.006/s08/lecturenotes/files/t8.shakespeare.txt\n",
            "Resolving ocw.mit.edu (ocw.mit.edu)... 151.101.2.133, 151.101.66.133, 151.101.130.133, ...\n",
            "Connecting to ocw.mit.edu (ocw.mit.edu)|151.101.2.133|:443... connected.\n",
            "HTTP request sent, awaiting response... 200 OK\n",
            "Length: 5458199 (5.2M) [text/plain]\n",
            "Saving to: ‘t8.shakespeare.txt’\n",
            "\n",
            "t8.shakespeare.txt  100%[===================>]   5.21M  --.-KB/s    in 0.03s   \n",
            "\n",
            "2021-11-29 12:34:18 (171 MB/s) - ‘t8.shakespeare.txt’ saved [5458199/5458199]\n",
            "\n"
          ]
        }
      ]
    },
    {
      "cell_type": "code",
      "metadata": {
        "colab": {
          "base_uri": "https://localhost:8080/"
        },
        "id": "6SQIsnE0Vyih",
        "outputId": "f6d93804-44ff-4633-9316-a246b515465f"
      },
      "source": [
        "!pip install pyspark "
      ],
      "execution_count": null,
      "outputs": [
        {
          "output_type": "stream",
          "name": "stdout",
          "text": [
            "Collecting pyspark\n",
            "  Downloading pyspark-3.2.0.tar.gz (281.3 MB)\n",
            "\u001b[K     |████████████████████████████████| 281.3 MB 37 kB/s \n",
            "\u001b[?25hCollecting py4j==0.10.9.2\n",
            "  Downloading py4j-0.10.9.2-py2.py3-none-any.whl (198 kB)\n",
            "\u001b[K     |████████████████████████████████| 198 kB 15.5 MB/s \n",
            "\u001b[?25hBuilding wheels for collected packages: pyspark\n",
            "  Building wheel for pyspark (setup.py) ... \u001b[?25l\u001b[?25hdone\n",
            "  Created wheel for pyspark: filename=pyspark-3.2.0-py2.py3-none-any.whl size=281805912 sha256=19159685f1c2bea79485758448753c0f5c57b84670820ea6dbfb845ca4634e03\n",
            "  Stored in directory: /root/.cache/pip/wheels/0b/de/d2/9be5d59d7331c6c2a7c1b6d1a4f463ce107332b1ecd4e80718\n",
            "Successfully built pyspark\n",
            "Installing collected packages: py4j, pyspark\n",
            "Successfully installed py4j-0.10.9.2 pyspark-3.2.0\n"
          ]
        }
      ]
    },
    {
      "cell_type": "code",
      "metadata": {
        "id": "8boHoN7BV5NX"
      },
      "source": [
        "import pyspark \n",
        "import findspark"
      ],
      "execution_count": null,
      "outputs": []
    },
    {
      "cell_type": "markdown",
      "metadata": {
        "id": "efdQM3tjO_se"
      },
      "source": [
        "Run local spark session"
      ]
    },
    {
      "cell_type": "code",
      "metadata": {
        "id": "oIvFxP8mWJwp"
      },
      "source": [
        "sc = pyspark.SparkContext.getOrCreate()"
      ],
      "execution_count": null,
      "outputs": []
    },
    {
      "cell_type": "code",
      "metadata": {
        "colab": {
          "base_uri": "https://localhost:8080/",
          "height": 193
        },
        "id": "ZM2B76v4ZEXa",
        "outputId": "ece6c828-1243-4243-e70d-93c4a713e8e6"
      },
      "source": [
        "sc"
      ],
      "execution_count": null,
      "outputs": [
        {
          "output_type": "execute_result",
          "data": {
            "text/html": [
              "\n",
              "        <div>\n",
              "            <p><b>SparkContext</b></p>\n",
              "\n",
              "            <p><a href=\"http://5cbdab859a4d:4040\">Spark UI</a></p>\n",
              "\n",
              "            <dl>\n",
              "              <dt>Version</dt>\n",
              "                <dd><code>v3.2.0</code></dd>\n",
              "              <dt>Master</dt>\n",
              "                <dd><code>local[*]</code></dd>\n",
              "              <dt>AppName</dt>\n",
              "                <dd><code>pyspark-shell</code></dd>\n",
              "            </dl>\n",
              "        </div>\n",
              "        "
            ],
            "text/plain": [
              "<SparkContext master=local[*] appName=pyspark-shell>"
            ]
          },
          "metadata": {},
          "execution_count": 5
        }
      ]
    },
    {
      "cell_type": "markdown",
      "metadata": {
        "id": "kI7uUR1IZUOP"
      },
      "source": [
        "Creation d'un RDD "
      ]
    },
    {
      "cell_type": "code",
      "metadata": {
        "id": "Xi6jk_QoZNO0"
      },
      "source": [
        "big_list = range(10000)"
      ],
      "execution_count": null,
      "outputs": []
    },
    {
      "cell_type": "code",
      "metadata": {
        "id": "bdlyVHgHZOOn"
      },
      "source": [
        "rdd = sc.parallelize(big_list,2) "
      ],
      "execution_count": null,
      "outputs": []
    },
    {
      "cell_type": "code",
      "metadata": {
        "colab": {
          "base_uri": "https://localhost:8080/"
        },
        "id": "DjTS7R4xZSbO",
        "outputId": "67fe3028-4d7e-459b-b41e-8f495ce48960"
      },
      "source": [
        "rdd"
      ],
      "execution_count": null,
      "outputs": [
        {
          "output_type": "execute_result",
          "data": {
            "text/plain": [
              "PythonRDD[1] at RDD at PythonRDD.scala:53"
            ]
          },
          "metadata": {},
          "execution_count": 8
        }
      ]
    },
    {
      "cell_type": "markdown",
      "metadata": {
        "id": "HpTJc5-5ZYzj"
      },
      "source": [
        "Tansformation"
      ]
    },
    {
      "cell_type": "code",
      "metadata": {
        "id": "o7cRvMoxZa-O"
      },
      "source": [
        "rdd_t1 = rdd.filter(lambda x: x % 2 != 0)"
      ],
      "execution_count": null,
      "outputs": []
    },
    {
      "cell_type": "code",
      "metadata": {
        "colab": {
          "base_uri": "https://localhost:8080/"
        },
        "id": "3FG8G2ghZxDO",
        "outputId": "47d59d28-6ff0-4668-b90e-4658196dba1a"
      },
      "source": [
        "rdd_t1"
      ],
      "execution_count": null,
      "outputs": [
        {
          "output_type": "execute_result",
          "data": {
            "text/plain": [
              "PythonRDD[2] at RDD at PythonRDD.scala:53"
            ]
          },
          "metadata": {},
          "execution_count": 10
        }
      ]
    },
    {
      "cell_type": "markdown",
      "metadata": {
        "id": "fVIxalurZzmx"
      },
      "source": [
        "Action"
      ]
    },
    {
      "cell_type": "code",
      "metadata": {
        "colab": {
          "base_uri": "https://localhost:8080/"
        },
        "id": "473L-qi1Z0aF",
        "outputId": "1db332b3-7f5a-4825-d364-3c27fb81a522"
      },
      "source": [
        "rdd_t1.first()"
      ],
      "execution_count": null,
      "outputs": [
        {
          "output_type": "execute_result",
          "data": {
            "text/plain": [
              "1"
            ]
          },
          "metadata": {},
          "execution_count": 11
        }
      ]
    },
    {
      "cell_type": "code",
      "metadata": {
        "colab": {
          "base_uri": "https://localhost:8080/"
        },
        "id": "kNPzcvOIZ4gt",
        "outputId": "37e49a20-4928-4d7f-a9e7-0c2477022753"
      },
      "source": [
        "rdd_t1.cache()"
      ],
      "execution_count": null,
      "outputs": [
        {
          "output_type": "execute_result",
          "data": {
            "text/plain": [
              "PythonRDD[2] at RDD at PythonRDD.scala:53"
            ]
          },
          "metadata": {},
          "execution_count": 12
        }
      ]
    },
    {
      "cell_type": "code",
      "metadata": {
        "colab": {
          "base_uri": "https://localhost:8080/"
        },
        "id": "rA9BJsbmZ8zZ",
        "outputId": "cdd5d44b-7495-4ed9-a49a-12f85435b8d6"
      },
      "source": [
        "rdd_t1.count()"
      ],
      "execution_count": null,
      "outputs": [
        {
          "output_type": "execute_result",
          "data": {
            "text/plain": [
              "5000"
            ]
          },
          "metadata": {},
          "execution_count": 13
        }
      ]
    },
    {
      "cell_type": "code",
      "metadata": {
        "colab": {
          "base_uri": "https://localhost:8080/"
        },
        "id": "UtnHS_SQaAkQ",
        "outputId": "acb423e4-0d1a-493f-e5b5-bd8e12dcd30d"
      },
      "source": [
        "rdd_t1.take(5)"
      ],
      "execution_count": null,
      "outputs": [
        {
          "output_type": "execute_result",
          "data": {
            "text/plain": [
              "[1, 3, 5, 7, 9]"
            ]
          },
          "metadata": {},
          "execution_count": 14
        }
      ]
    },
    {
      "cell_type": "markdown",
      "metadata": {
        "id": "AbRxHpYabUh-"
      },
      "source": [
        "Un autre dataset "
      ]
    },
    {
      "cell_type": "code",
      "metadata": {
        "colab": {
          "base_uri": "https://localhost:8080/"
        },
        "id": "_DgwxDz_byvz",
        "outputId": "cf45e8f0-7b3c-4c61-b7f0-70f81cdefe34"
      },
      "source": [
        "!wget 'https://ocw.mit.edu/ans7870/6/6.006/s08/lecturenotes/files/t8.shakespeare.txt'"
      ],
      "execution_count": null,
      "outputs": [
        {
          "output_type": "stream",
          "name": "stdout",
          "text": [
            "--2021-11-29 12:35:18--  https://ocw.mit.edu/ans7870/6/6.006/s08/lecturenotes/files/t8.shakespeare.txt\n",
            "Resolving ocw.mit.edu (ocw.mit.edu)... 151.101.2.133, 151.101.66.133, 151.101.130.133, ...\n",
            "Connecting to ocw.mit.edu (ocw.mit.edu)|151.101.2.133|:443... connected.\n",
            "HTTP request sent, awaiting response... 200 OK\n",
            "Length: 5458199 (5.2M) [text/plain]\n",
            "Saving to: ‘t8.shakespeare.txt.1’\n",
            "\n",
            "\rt8.shakespeare.txt.   0%[                    ]       0  --.-KB/s               \rt8.shakespeare.txt. 100%[===================>]   5.21M  --.-KB/s    in 0.03s   \n",
            "\n",
            "2021-11-29 12:35:18 (176 MB/s) - ‘t8.shakespeare.txt.1’ saved [5458199/5458199]\n",
            "\n"
          ]
        }
      ]
    },
    {
      "cell_type": "code",
      "metadata": {
        "id": "whvYKQ_GbZ6y"
      },
      "source": [
        "distfile = sc.textFile(\"/content/t8.shakespeare.txt\") "
      ],
      "execution_count": null,
      "outputs": []
    },
    {
      "cell_type": "markdown",
      "metadata": {
        "id": "J52fPbKnb8Yc"
      },
      "source": [
        "Actions "
      ]
    },
    {
      "cell_type": "code",
      "metadata": {
        "colab": {
          "base_uri": "https://localhost:8080/",
          "height": 35
        },
        "id": "9nNqzsRPbdfT",
        "outputId": "dff8e28f-7001-4f2a-85bd-41e06874e50b"
      },
      "source": [
        "distfile.first()"
      ],
      "execution_count": null,
      "outputs": [
        {
          "output_type": "execute_result",
          "data": {
            "application/vnd.google.colaboratory.intrinsic+json": {
              "type": "string"
            },
            "text/plain": [
              "'This is the 100th Etext file presented by Project Gutenberg, and'"
            ]
          },
          "metadata": {},
          "execution_count": 17
        }
      ]
    },
    {
      "cell_type": "code",
      "metadata": {
        "colab": {
          "base_uri": "https://localhost:8080/"
        },
        "id": "tZyMaEszb_Jg",
        "outputId": "87227a54-cef0-4e90-dcc1-06f92af0a677"
      },
      "source": [
        "distfile.take(5)"
      ],
      "execution_count": null,
      "outputs": [
        {
          "output_type": "execute_result",
          "data": {
            "text/plain": [
              "['This is the 100th Etext file presented by Project Gutenberg, and',\n",
              " 'is presented in cooperation with World Library, Inc., from their',\n",
              " 'Library of the Future and Shakespeare CDROMS.  Project Gutenberg',\n",
              " 'often releases Etexts that are NOT placed in the Public Domain!!',\n",
              " '']"
            ]
          },
          "metadata": {},
          "execution_count": 18
        }
      ]
    },
    {
      "cell_type": "code",
      "metadata": {
        "colab": {
          "base_uri": "https://localhost:8080/"
        },
        "id": "FMDr8FMPcLO1",
        "outputId": "6379e9e2-fbc5-4c9a-f10a-542b86b2ccf4"
      },
      "source": [
        "distfile.count()"
      ],
      "execution_count": null,
      "outputs": [
        {
          "output_type": "execute_result",
          "data": {
            "text/plain": [
              "124456"
            ]
          },
          "metadata": {},
          "execution_count": 19
        }
      ]
    },
    {
      "cell_type": "markdown",
      "metadata": {
        "id": "Tw28MK5wcIoS"
      },
      "source": [
        "Transformation"
      ]
    },
    {
      "cell_type": "code",
      "metadata": {
        "id": "S6wzPWHscFNi"
      },
      "source": [
        "rdd_t2_dataset = distfile.filter(lambda line: 'close' in line.lower())"
      ],
      "execution_count": null,
      "outputs": []
    },
    {
      "cell_type": "code",
      "metadata": {
        "colab": {
          "base_uri": "https://localhost:8080/"
        },
        "id": "UPrGES5_bYef",
        "outputId": "4a8e475d-6a08-4826-9866-7f1b1ff7888c"
      },
      "source": [
        "rdd_t2_dataset"
      ],
      "execution_count": null,
      "outputs": [
        {
          "output_type": "execute_result",
          "data": {
            "text/plain": [
              "PythonRDD[11] at RDD at PythonRDD.scala:53"
            ]
          },
          "metadata": {},
          "execution_count": 21
        }
      ]
    },
    {
      "cell_type": "markdown",
      "metadata": {
        "id": "qK5UDZhjcVYp"
      },
      "source": [
        "Action "
      ]
    },
    {
      "cell_type": "code",
      "metadata": {
        "colab": {
          "base_uri": "https://localhost:8080/"
        },
        "id": "CX6f42E7cUxa",
        "outputId": "be2b212d-987b-4d7b-e645-a19de61c3ec8"
      },
      "source": [
        "rdd_t2_dataset.count()"
      ],
      "execution_count": null,
      "outputs": [
        {
          "output_type": "execute_result",
          "data": {
            "text/plain": [
              "166"
            ]
          },
          "metadata": {},
          "execution_count": 22
        }
      ]
    },
    {
      "cell_type": "code",
      "metadata": {
        "id": "zd4fb5TQ69vv"
      },
      "source": [
        "wordCounts = distfile.flatMap(lambda line: line.split()).map(lambda word: (word, 1)).reduceByKey(lambda a, b: a+b)"
      ],
      "execution_count": null,
      "outputs": []
    },
    {
      "cell_type": "code",
      "metadata": {
        "colab": {
          "base_uri": "https://localhost:8080/"
        },
        "id": "_HWioTBI7B0c",
        "outputId": "12392707-8c8f-4756-d239-3a9d32dde6a7"
      },
      "source": [
        "wordCounts"
      ],
      "execution_count": null,
      "outputs": [
        {
          "output_type": "execute_result",
          "data": {
            "text/plain": [
              "PythonRDD[17] at RDD at PythonRDD.scala:53"
            ]
          },
          "metadata": {},
          "execution_count": 24
        }
      ]
    },
    {
      "cell_type": "code",
      "metadata": {
        "colab": {
          "base_uri": "https://localhost:8080/"
        },
        "id": "BTmp73X37FiP",
        "outputId": "d9914802-b016-4404-8254-c5188e7f22d2"
      },
      "source": [
        "wordCounts.collect()"
      ],
      "execution_count": null,
      "outputs": [
        {
          "output_type": "execute_result",
          "data": {
            "text/plain": [
              "[('is', 7851),\n",
              " ('Etext', 4),\n",
              " ('presented', 11),\n",
              " ('Project', 13),\n",
              " ('Gutenberg,', 1),\n",
              " ('in', 9576),\n",
              " ('cooperation', 1),\n",
              " ('World', 5),\n",
              " ('Library,', 2),\n",
              " ('Inc.,', 1),\n",
              " ('of', 15544),\n",
              " ('Future', 3),\n",
              " ('Shakespeare', 45),\n",
              " ('are', 2917),\n",
              " ('placed', 10),\n",
              " ('Public', 1),\n",
              " ('Domain!!', 1),\n",
              " ('*This', 1),\n",
              " ('certain', 116),\n",
              " ('copyright', 7),\n",
              " ('implications', 1),\n",
              " ('read!*', 1),\n",
              " ('ELECTRONIC', 442),\n",
              " ('VERSION', 221),\n",
              " ('OF', 1490),\n",
              " ('WILLIAM', 244),\n",
              " ('SHAKESPEARE', 223),\n",
              " ('IS', 445),\n",
              " ('COPYRIGHT', 221),\n",
              " ('WORLD', 221),\n",
              " ('LIBRARY,', 221),\n",
              " ('PROVIDED', 222),\n",
              " ('GUTENBERG', 221),\n",
              " ('ETEXT', 223),\n",
              " ('COLLEGE', 221),\n",
              " ('PERMISSION.', 221),\n",
              " ('READABLE', 221),\n",
              " ('MAY', 223),\n",
              " ('BE', 222),\n",
              " ('LONG', 221),\n",
              " ('AS', 223),\n",
              " ('ARE', 446),\n",
              " ('FOR', 669),\n",
              " ('YOUR', 221),\n",
              " ('OTHERS', 233),\n",
              " ('USE', 221),\n",
              " ('(2)', 222),\n",
              " ('THAT', 222),\n",
              " ('CHARGES', 223),\n",
              " ('TIME', 221),\n",
              " ('MEMBERSHIP.>>', 220),\n",
              " ('The', 3965),\n",
              " ('presentation', 3),\n",
              " ('THIS', 6),\n",
              " ('NEITHER', 1),\n",
              " ('SHAREWARE', 1),\n",
              " ('PUBLIC', 1),\n",
              " ('DOMAIN.', 1),\n",
              " ('.', 51),\n",
              " ('UNDER', 2),\n",
              " ('LIBRARY', 1),\n",
              " ('FUTURE', 1),\n",
              " ('CONDITIONS', 1),\n",
              " ('PRESENTATION.', 1),\n",
              " ('.NO', 1),\n",
              " ('*ANY*', 1),\n",
              " ('TO', 11),\n",
              " ('YOU', 31),\n",
              " ('GIVE', 2),\n",
              " ('LIKE,', 1),\n",
              " ('BUT', 3),\n",
              " ('NO', 3),\n",
              " ('ALLOWED!!', 1),\n",
              " ('Free', 11),\n",
              " ('Plain', 3),\n",
              " ('Electronic', 1),\n",
              " ('**Etexts', 1),\n",
              " ('Since', 158),\n",
              " ('1971**', 1),\n",
              " ('Donations*', 1),\n",
              " ('Information', 2),\n",
              " ('Etexts,', 1),\n",
              " ('further', 116),\n",
              " ('below.', 7),\n",
              " ('donations.', 1),\n",
              " ('January,', 1),\n",
              " ('1994', 1),\n",
              " ('(TM)', 1),\n",
              " ('******This', 1),\n",
              " ('named', 3),\n",
              " ('shaks12.zip*****', 1),\n",
              " ('EDITIONS', 1),\n",
              " ('new', 180),\n",
              " ('NUMBER,', 1),\n",
              " ('based', 1),\n",
              " ('LETTER,', 1),\n",
              " ('would', 1974),\n",
              " ('like', 1453),\n",
              " ('Please', 59),\n",
              " ('call', 411),\n",
              " ('them', 1307),\n",
              " ('at', 2216),\n",
              " ('julianc@netcom.com', 1),\n",
              " ('give', 962),\n",
              " ('thanks', 61),\n",
              " ('official', 3),\n",
              " ('Central', 1),\n",
              " ('Time,', 11),\n",
              " ('last', 184),\n",
              " ('stated', 1),\n",
              " ('month.', 7),\n",
              " ('preliminary', 1),\n",
              " ('version', 1),\n",
              " ('may', 1326),\n",
              " ('do', 2835),\n",
              " ('so.', 323),\n",
              " ('sure', 172),\n",
              " ('have', 5236),\n",
              " ('an', 1552),\n",
              " ('edition', 1),\n",
              " ('[xxxxx10x.xxx]', 1),\n",
              " ('check', 20),\n",
              " ('sizes', 1),\n",
              " ('week', 13),\n",
              " ('ftp', 2),\n",
              " ('fix', 3),\n",
              " ('failed]', 1),\n",
              " ('look', 500),\n",
              " ('size', 7),\n",
              " ('do,', 185),\n",
              " ('but', 3561),\n",
              " ('we', 2487),\n",
              " ('try', 74),\n",
              " ('more', 1608),\n",
              " ('less.', 21),\n",
              " ('(one', 1),\n",
              " ('produce', 14),\n",
              " ('two', 570),\n",
              " ('work.', 26),\n",
              " ('hours', 86),\n",
              " ('conservative', 1),\n",
              " ('estimate', 2),\n",
              " ('long', 302),\n",
              " ('take', 966),\n",
              " ('selected,', 1),\n",
              " ('entered,', 1),\n",
              " ('proofread,', 1),\n",
              " ('searched', 1),\n",
              " ('letters', 89),\n",
              " ('etc.', 13),\n",
              " ('projected', 1),\n",
              " ('value', 18),\n",
              " ('nominally', 1),\n",
              " ('estimated', 1),\n",
              " ('dollar,', 1),\n",
              " ('this', 4771),\n",
              " ('year', 47),\n",
              " ('we,', 52),\n",
              " ('four', 115),\n",
              " ('files', 4),\n",
              " ('month:', 1),\n",
              " ('thus', 400),\n",
              " ('upping', 1),\n",
              " ('million.', 3),\n",
              " ('Goal', 1),\n",
              " ('Give', 322),\n",
              " ('Away', 52),\n",
              " ('One', 182),\n",
              " ('Files', 1),\n",
              " ('31,', 1),\n",
              " ('ten', 117),\n",
              " ('thousand', 298),\n",
              " ('titles', 14),\n",
              " ('readers,', 1),\n",
              " ('end', 163),\n",
              " ('than', 1451),\n",
              " ('ever!', 8),\n",
              " ('tax', 11),\n",
              " ('extent', 5),\n",
              " ('law', 98),\n",
              " ('Illinois', 2),\n",
              " ('go', 866),\n",
              " ('too)', 1),\n",
              " ('these', 1034),\n",
              " ('other', 544),\n",
              " ('matters,', 7),\n",
              " ('P.', 9),\n",
              " ('O.', 6),\n",
              " ('Box', 2),\n",
              " ('Champaign,', 2),\n",
              " ('61825', 2),\n",
              " ('When', 815),\n",
              " ('fails', 4),\n",
              " ('Michael', 10),\n",
              " ('Hart,', 1),\n",
              " ('Executive', 1),\n",
              " ('Director:', 1),\n",
              " ('hart@vmd.cso.uiuc.edu', 2),\n",
              " ('hart@uiucvmd', 2),\n",
              " ('(bitnet)', 1),\n",
              " ('send', 211),\n",
              " ('Bitnet,', 1),\n",
              " ('ATTMAIL', 1),\n",
              " ('******', 1),\n",
              " ('archives:', 1),\n",
              " ('point', 90),\n",
              " ('click.', 1),\n",
              " ('.type]', 1),\n",
              " ('login:', 1),\n",
              " ('anonymous', 1),\n",
              " ('cd', 5),\n",
              " ('etext93', 1),\n",
              " ('[now', 1),\n",
              " ('etext/etext93]', 1),\n",
              " ('etext/articles', 1),\n",
              " ('[get', 1),\n",
              " ('suggest', 6),\n",
              " ('information]', 1),\n",
              " ('dir', 1),\n",
              " ('mget', 1),\n",
              " ('zip', 1),\n",
              " ('GET', 2),\n",
              " ('0INDEX.GUT', 1),\n",
              " ('books', 18),\n",
              " ('NEW', 1),\n",
              " ('MGET', 1),\n",
              " ('GUT*', 1),\n",
              " ('newsletters.', 1),\n",
              " ('prepared', 9),\n",
              " ('legal', 4),\n",
              " ('advisor**', 1),\n",
              " ('PRINT!', 2),\n",
              " ('Gutenberg-tm', 1),\n",
              " ('protected,', 1),\n",
              " ('use', 257),\n",
              " ('effect', 41),\n",
              " (\"Project's\", 1),\n",
              " ('right', 193),\n",
              " ('limited', 4),\n",
              " ('laws,', 11),\n",
              " ('conditions', 12),\n",
              " ('Print!\"', 2),\n",
              " ('statement.', 2),\n",
              " ('1.', 73),\n",
              " ('LICENSE', 1),\n",
              " ('DISTRIBUTE', 1),\n",
              " ('ETEXT,', 1),\n",
              " ('B)', 1),\n",
              " ('subject', 66),\n",
              " ('honor', 22),\n",
              " ('refund', 2),\n",
              " ('statement;', 1),\n",
              " ('etext,', 4),\n",
              " ('Small', 9),\n",
              " ('Print', 1),\n",
              " ('Such', 140),\n",
              " ('compressed', 1),\n",
              " ('proprietary', 1),\n",
              " ('form', 72),\n",
              " ('(including', 1),\n",
              " ('resulting', 1),\n",
              " ('as', 4269),\n",
              " ('when', 1177),\n",
              " ('*not*', 1),\n",
              " ('characters', 9),\n",
              " ('work,', 25),\n",
              " ('although', 33),\n",
              " ('(~),', 1),\n",
              " ('asterisk', 1),\n",
              " ('(*)', 1),\n",
              " ('underline', 1),\n",
              " ('(_)', 1),\n",
              " ('used', 15),\n",
              " ('convey', 25),\n",
              " ('punctuation', 1),\n",
              " ('author,', 2),\n",
              " ('additional', 2),\n",
              " ('indicate', 1),\n",
              " ('convertible', 1),\n",
              " ('no', 2430),\n",
              " ('expense', 11),\n",
              " ('into', 545),\n",
              " ('ASCII,', 1),\n",
              " ('(as', 10),\n",
              " ('case,', 21),\n",
              " ('instance,', 7),\n",
              " ('processors);', 1),\n",
              " ('(3)', 1),\n",
              " ('provide', 21),\n",
              " ('fee', 11),\n",
              " ('WARRANTY;', 1),\n",
              " ('DAMAGES', 1),\n",
              " ('\"Defect\"', 1),\n",
              " ('inaccurate', 1),\n",
              " ('corrupt', 23),\n",
              " ('transcription', 1),\n",
              " ('errors,', 3),\n",
              " ('infringement,', 1),\n",
              " ('virus,', 1),\n",
              " ('damage', 3),\n",
              " ('cannot', 676),\n",
              " ('read', 134),\n",
              " ('But', 2322),\n",
              " ('Replacement', 1),\n",
              " ('below,', 12),\n",
              " ('(and', 1),\n",
              " ('GUTENBERG-tm', 1),\n",
              " ('etext)', 1),\n",
              " ('liability', 1),\n",
              " ('damages,', 2),\n",
              " ('NEGLIGENCE', 1),\n",
              " ('STRICT', 1),\n",
              " ('BREACH', 1),\n",
              " ('CONTRACT,', 1),\n",
              " ('INCLUDING', 2),\n",
              " ('CONSEQUENTIAL,', 1),\n",
              " ('DAMAGES,', 1),\n",
              " ('NOTICE', 1),\n",
              " ('discover', 27),\n",
              " ('days', 111),\n",
              " ('it,', 526),\n",
              " ('money', 92),\n",
              " ('(if', 3),\n",
              " ('any)', 1),\n",
              " ('paid', 44),\n",
              " ('explanatory', 1),\n",
              " ('person', 76),\n",
              " ('from.', 3),\n",
              " ('must', 1309),\n",
              " ('note,', 26),\n",
              " ('alternatively', 2),\n",
              " ('opportunity', 10),\n",
              " ('OTHERWISE', 1),\n",
              " ('OTHER', 1),\n",
              " ('KIND,', 1),\n",
              " ('EXPRESS', 1),\n",
              " ('IMPLIED,', 1),\n",
              " ('MERCHANTABILITY', 1),\n",
              " ('allow', 17),\n",
              " ('disclaimers', 2),\n",
              " ('implied', 1),\n",
              " ('consequen-', 1),\n",
              " ('tial', 1),\n",
              " ('above', 96),\n",
              " ('exclusions', 1),\n",
              " ('rights.', 1),\n",
              " ('3.', 42),\n",
              " ('indemnify', 1),\n",
              " ('officers,', 10),\n",
              " ('members', 8),\n",
              " ('lia-', 1),\n",
              " ('arise', 5),\n",
              " ('indirectly', 6),\n",
              " ('following', 37),\n",
              " ('[A]', 1),\n",
              " ('distribution', 3),\n",
              " ('alteration,', 3),\n",
              " ('[C]', 1),\n",
              " ('WHAT', 2),\n",
              " ('*WANT*', 1),\n",
              " ('SEND', 1),\n",
              " (\"DON'T\", 1),\n",
              " ('dedicated', 4),\n",
              " ('public', 53),\n",
              " ('domain', 2),\n",
              " ('freely', 34),\n",
              " ('machine', 2),\n",
              " ('gratefully', 1),\n",
              " ('accepts', 3),\n",
              " ('money,', 30),\n",
              " ('scanning', 1),\n",
              " ('software,', 1),\n",
              " ('free', 120),\n",
              " ('licenses,', 1),\n",
              " ('think', 791),\n",
              " ('of.', 70),\n",
              " ('ject', 1),\n",
              " ('US!', 1),\n",
              " ('reached', 1),\n",
              " ('at:', 3),\n",
              " ('internet!vmd.cso.uiuc.edu!Hart', 1),\n",
              " ('Prof.', 1),\n",
              " ('Hart', 2),\n",
              " ('Kramer,', 1),\n",
              " ('Attorney', 1),\n",
              " ('(212-254-5093)', 1),\n",
              " ('__', 1),\n",
              " ('[\"Small', 1),\n",
              " ('1', 13),\n",
              " ('fairest', 38),\n",
              " ('creatures', 24),\n",
              " ('increase,', 9),\n",
              " ('That', 2734),\n",
              " ('thereby', 19),\n",
              " (\"beauty's\", 28),\n",
              " ('rose', 40),\n",
              " ('never', 865),\n",
              " ('riper', 3),\n",
              " ('tender', 121),\n",
              " ('heir', 68),\n",
              " ('bear', 421),\n",
              " ('his', 6218),\n",
              " ('memory:', 1),\n",
              " ('thou', 4247),\n",
              " ('thine', 315),\n",
              " ('own', 659),\n",
              " ('bright', 50),\n",
              " ('thy', 3630),\n",
              " (\"light's\", 1),\n",
              " ('flame', 19),\n",
              " ('fuel,', 1),\n",
              " ('Making', 26),\n",
              " ('famine', 5),\n",
              " ('where', 605),\n",
              " ('abundance', 8),\n",
              " ('self', 98),\n",
              " ('foe,', 14),\n",
              " ('sweet', 580),\n",
              " ('cruel:', 1),\n",
              " ('Thou', 890),\n",
              " ('now', 1126),\n",
              " (\"world's\", 50),\n",
              " ('ornament,', 5),\n",
              " ('And', 7068),\n",
              " ('only', 219),\n",
              " ('herald', 16),\n",
              " ('Within', 82),\n",
              " ('churl', 3),\n",
              " (\"mak'st\", 21),\n",
              " ('niggarding:', 1),\n",
              " ('Pity', 14),\n",
              " ('world,', 127),\n",
              " ('due,', 8),\n",
              " ('grave', 80),\n",
              " ('forty', 22),\n",
              " ('winters', 8),\n",
              " ('besiege', 8),\n",
              " ('dig', 9),\n",
              " (\"youth's\", 5),\n",
              " ('Will', 454),\n",
              " ('weed', 11),\n",
              " ('worth', 158),\n",
              " ('held:', 1),\n",
              " ('Then', 581),\n",
              " ('asked,', 1),\n",
              " ('beauty', 132),\n",
              " ('treasure', 33),\n",
              " ('days;', 10),\n",
              " ('say', 1050),\n",
              " ('shame,', 68),\n",
              " ('praise.', 24),\n",
              " ('praise', 119),\n",
              " ('use,', 21),\n",
              " ('couldst', 21),\n",
              " ('child', 92),\n",
              " ('sum', 44),\n",
              " ('make', 1433),\n",
              " ('Proving', 1),\n",
              " ('succession', 8),\n",
              " ('old,', 54),\n",
              " (\"feel'st\", 1),\n",
              " ('cold.', 15),\n",
              " ('glass', 32),\n",
              " ('tell', 813),\n",
              " ('Now', 470),\n",
              " ('Whose', 234),\n",
              " ('repair', 29),\n",
              " ('dost', 318),\n",
              " ('beguile', 20),\n",
              " ('unbless', 1),\n",
              " ('whose', 378),\n",
              " ('uneared', 1),\n",
              " ('Disdains', 1),\n",
              " ('husbandry?', 1),\n",
              " ('Or', 628),\n",
              " ('he', 4546),\n",
              " ('fond', 45),\n",
              " ('Of', 976),\n",
              " ('stop', 70),\n",
              " (\"mother's\", 71),\n",
              " ('lovely', 51),\n",
              " ('her', 2822),\n",
              " ('shalt', 283),\n",
              " ('Despite', 8),\n",
              " ('wrinkles', 10),\n",
              " ('live', 304),\n",
              " ('single', 53),\n",
              " ('image', 37),\n",
              " ('dies', 34),\n",
              " ('4', 4),\n",
              " ('why', 183),\n",
              " ('spend,', 3),\n",
              " ('Upon', 327),\n",
              " ('legacy?', 1),\n",
              " ('doth', 789),\n",
              " ('lend,', 2),\n",
              " ('frank', 8),\n",
              " ('free:', 2),\n",
              " ('beauteous', 32),\n",
              " ('niggard', 7),\n",
              " ('abuse,', 8),\n",
              " ('bounteous', 15),\n",
              " ('Profitless', 1),\n",
              " ('sums', 15),\n",
              " ('yet', 930),\n",
              " ('traffic', 9),\n",
              " ('alone,', 50),\n",
              " ('calls', 62),\n",
              " ('What', 1814),\n",
              " ('unused', 4),\n",
              " ('tombed', 1),\n",
              " ('thee,', 594),\n",
              " ('Which', 817),\n",
              " ('executor', 1),\n",
              " ('be.', 103),\n",
              " ('gentle', 312),\n",
              " ('work', 104),\n",
              " ('frame', 35),\n",
              " ('dwell', 29),\n",
              " ('very', 755),\n",
              " ('unfair', 1),\n",
              " ('fairly', 38),\n",
              " ('never-resting', 1),\n",
              " ('summer', 41),\n",
              " ('there,', 143),\n",
              " ('frost', 5),\n",
              " ('leaves', 57),\n",
              " ('quite', 55),\n",
              " ('Beauty', 7),\n",
              " ('bareness', 2),\n",
              " ('where:', 1),\n",
              " ('pent', 8),\n",
              " ('walls', 51),\n",
              " ('nor', 610),\n",
              " ('remembrance', 44),\n",
              " ('flowers', 24),\n",
              " ('though', 381),\n",
              " ('meet,', 26),\n",
              " ('substance', 26),\n",
              " ('sweet.', 11),\n",
              " ('let', 1287),\n",
              " ('ragged', 20),\n",
              " ('deface,', 1),\n",
              " ('place,', 81),\n",
              " ('self-killed:', 1),\n",
              " ('usury,', 2),\n",
              " ('happies', 1),\n",
              " ('pay', 112),\n",
              " ('willing', 26),\n",
              " (\"That's\", 148),\n",
              " ('one,', 115),\n",
              " ('Ten', 21),\n",
              " ('thee:', 12),\n",
              " ('Leaving', 11),\n",
              " ('living', 81),\n",
              " ('fair,', 67),\n",
              " (\"death's\", 24),\n",
              " ('worms', 12),\n",
              " ('heir.', 12),\n",
              " ('Lo', 12),\n",
              " ('orient', 5),\n",
              " ('burning', 36),\n",
              " ('head,', 103),\n",
              " ('Doth', 123),\n",
              " ('sight,', 30),\n",
              " ('Serving', 3),\n",
              " ('looks', 132),\n",
              " ('sacred', 46),\n",
              " ('middle', 16),\n",
              " ('age,', 47),\n",
              " ('mortal', 83),\n",
              " ('pilgrimage:', 1),\n",
              " ('highmost', 2),\n",
              " ('pitch', 20),\n",
              " ('weary', 53),\n",
              " ('car,', 3),\n",
              " ('reeleth', 1),\n",
              " ('eyes', 382),\n",
              " ('(fore', 1),\n",
              " ('low', 60),\n",
              " ('diest', 9),\n",
              " ('8', 1),\n",
              " ('hear,', 66),\n",
              " ('music', 83),\n",
              " ('sadly?', 1),\n",
              " ('sweets', 8),\n",
              " ('delights', 11),\n",
              " (\"lov'st\", 22),\n",
              " (\"receiv'st\", 2),\n",
              " ('annoy?', 1),\n",
              " ('true', 419),\n",
              " ('concord', 8),\n",
              " ('unions', 1),\n",
              " ('married', 95),\n",
              " ('offend', 45),\n",
              " ('ear,', 36),\n",
              " ('They', 489),\n",
              " ('bear:', 1),\n",
              " ('Mark', 86),\n",
              " ('husband', 125),\n",
              " ('mutual', 15),\n",
              " ('sire,', 4),\n",
              " ('pleasing', 20),\n",
              " ('speechless', 9),\n",
              " ('many,', 20),\n",
              " ('Sings', 2),\n",
              " (\"'Thou\", 9),\n",
              " (\"none'.\", 1),\n",
              " ('9', 1),\n",
              " ('fear', 372),\n",
              " ('wet', 12),\n",
              " ('eye,', 90),\n",
              " (\"consum'st\", 1),\n",
              " ('life?', 22),\n",
              " ('Ah,', 150),\n",
              " ('world', 342),\n",
              " ('makeless', 1),\n",
              " ('weep,', 34),\n",
              " ('hast', 510),\n",
              " ('behind,', 14),\n",
              " ('private', 54),\n",
              " (\"husband's\", 35),\n",
              " ('shape', 54),\n",
              " ('mind:', 6),\n",
              " ('Shifts', 1),\n",
              " ('enjoys', 3),\n",
              " ('end,', 48),\n",
              " ('kept', 83),\n",
              " ('it:', 28),\n",
              " ('love', 1212),\n",
              " ('toward', 83),\n",
              " ('others', 96),\n",
              " ('bosom', 71),\n",
              " ('sits', 38),\n",
              " (\"murd'rous\", 8),\n",
              " ('10', 1),\n",
              " ('wilt,', 15),\n",
              " ('beloved', 22),\n",
              " ('none', 279),\n",
              " ('hate,', 29),\n",
              " (\"'gainst\", 85),\n",
              " ('conspire,', 1),\n",
              " ('Seeking', 8),\n",
              " ('chief', 27),\n",
              " ('O', 1167),\n",
              " ('change', 113),\n",
              " ('thought,', 47),\n",
              " ('hate', 114),\n",
              " ('lodged', 4),\n",
              " ('love?', 55),\n",
              " ('presence', 64),\n",
              " ('kind,', 32),\n",
              " ('kind-hearted', 1),\n",
              " ('wane', 1),\n",
              " (\"grow'st,\", 2),\n",
              " (\"bestow'st,\", 1),\n",
              " ('convertest,', 1),\n",
              " ('Herein', 7),\n",
              " ('Without', 79),\n",
              " ('cold', 128),\n",
              " ('decay,', 5),\n",
              " ('cease,', 5),\n",
              " ('threescore', 4),\n",
              " ('away:', 2),\n",
              " ('Let', 802),\n",
              " ('Harsh,', 1),\n",
              " ('featureless,', 1),\n",
              " ('best', 350),\n",
              " ('gave', 212),\n",
              " ('more;', 56),\n",
              " ('gift', 38),\n",
              " ('cherish:', 1),\n",
              " ('She', 444),\n",
              " ('carved', 6),\n",
              " ('thereby,', 3),\n",
              " ('print', 13),\n",
              " ('12', 1),\n",
              " ('count', 29),\n",
              " ('tells', 39),\n",
              " ('brave', 134),\n",
              " ('sunk', 3),\n",
              " ('behold', 94),\n",
              " ('past', 86),\n",
              " ('curls', 1),\n",
              " (\"o'er\", 160),\n",
              " ('white:', 1),\n",
              " ('lofty', 14),\n",
              " ('barren', 31),\n",
              " ('leaves,', 10),\n",
              " ('green', 52),\n",
              " ('girded', 2),\n",
              " ('sheaves', 1),\n",
              " ('bier', 4),\n",
              " ('beard:', 2),\n",
              " ('question', 87),\n",
              " ('beauties', 6),\n",
              " ('themselves', 93),\n",
              " ('forsake,', 2),\n",
              " ('die', 223),\n",
              " ('scythe', 3),\n",
              " ('Save', 56),\n",
              " ('longer', 74),\n",
              " ('live,', 73),\n",
              " ('prepare,', 2),\n",
              " ('semblance', 15),\n",
              " ('lease', 6),\n",
              " ('Find', 26),\n",
              " ('again', 242),\n",
              " ('after', 267),\n",
              " ('house', 266),\n",
              " ('fall', 215),\n",
              " ('husbandry', 8),\n",
              " ('honour', 337),\n",
              " ('stormy', 4),\n",
              " ('gusts', 5),\n",
              " ('rage', 60),\n",
              " ('cold?', 4),\n",
              " ('son', 318),\n",
              " ('14', 1),\n",
              " ('Not', 470),\n",
              " ('judgement', 12),\n",
              " ('pluck,', 1),\n",
              " ('methinks', 51),\n",
              " ('astronomy,', 1),\n",
              " ('good,', 88),\n",
              " ('evil', 36),\n",
              " ('dearths,', 1),\n",
              " (\"seasons'\", 2),\n",
              " ('minutes', 11),\n",
              " ('tell;', 13),\n",
              " ('rain', 34),\n",
              " ('princes', 40),\n",
              " ('predict', 1),\n",
              " ('find.', 7),\n",
              " ('knowledge', 49),\n",
              " ('store', 24),\n",
              " ('wouldst', 109),\n",
              " ('prognosticate,', 1),\n",
              " (\"truth's\", 5),\n",
              " ('date.', 5),\n",
              " ('consider', 30),\n",
              " ('grows', 60),\n",
              " ('Holds', 9),\n",
              " ('perfection', 15),\n",
              " ('huge', 32),\n",
              " ('stage', 16),\n",
              " ('presenteth', 1),\n",
              " ('Whereon', 10),\n",
              " ('secret', 52),\n",
              " ('influence', 8),\n",
              " ('Cheered', 1),\n",
              " ('even', 294),\n",
              " ('Vaunt', 1),\n",
              " ('youthful', 29),\n",
              " ('sap,', 4),\n",
              " ('decrease,', 1),\n",
              " ('wear', 163),\n",
              " ('state', 165),\n",
              " ('out', 926),\n",
              " ('conceit', 24),\n",
              " ('inconstant', 7),\n",
              " ('stay,', 34),\n",
              " ('before', 486),\n",
              " ('debateth', 1),\n",
              " ('engraft', 1),\n",
              " ('new.', 8),\n",
              " ('16', 1),\n",
              " ('wherefore', 60),\n",
              " ('mightier', 6),\n",
              " ('way', 323),\n",
              " ('upon', 1337),\n",
              " ('bloody', 197),\n",
              " ('fortify', 6),\n",
              " ('means', 197),\n",
              " ('blessed', 68),\n",
              " ('rhyme?', 2),\n",
              " ('stand', 377),\n",
              " ('maiden', 34),\n",
              " ('flowers,', 8),\n",
              " ('Much', 38),\n",
              " ('liker', 2),\n",
              " ('painted', 44),\n",
              " ('counterfeit:', 1),\n",
              " (\"(Time's\", 1),\n",
              " ('pencil)', 1),\n",
              " ('pupil', 9),\n",
              " ('Neither', 18),\n",
              " ('inward', 28),\n",
              " ('away', 292),\n",
              " ('keeps', 63),\n",
              " ('17', 1),\n",
              " ('believe', 159),\n",
              " ('verse', 18),\n",
              " ('filled', 3),\n",
              " ('high', 189),\n",
              " ('deserts?', 1),\n",
              " ('Though', 230),\n",
              " ('tomb', 19),\n",
              " ('life,', 204),\n",
              " ('numbers', 29),\n",
              " ('graces,', 6),\n",
              " ('poet', 9),\n",
              " ('touches', 20),\n",
              " (\"ne'er\", 190),\n",
              " ('touched', 3),\n",
              " ('earthly', 28),\n",
              " ('papers', 6),\n",
              " ('(yellowed', 1),\n",
              " ('age)', 1),\n",
              " ('tongue,', 72),\n",
              " ('termed', 2),\n",
              " ('rage,', 34),\n",
              " ('song.', 18),\n",
              " ('yours', 77),\n",
              " ('compare', 14),\n",
              " ('temperate:', 1),\n",
              " ('Rough', 5),\n",
              " ('shake', 80),\n",
              " ('May,', 6),\n",
              " ('short', 61),\n",
              " ('date:', 1),\n",
              " ('hot', 112),\n",
              " ('shines,', 2),\n",
              " ('gold', 88),\n",
              " ('complexion', 23),\n",
              " ('sometime', 56),\n",
              " ('chance,', 21),\n",
              " ('untrimmed:', 1),\n",
              " ('lose', 171),\n",
              " ('possession', 25),\n",
              " (\"ow'st,\", 1),\n",
              " ('shade,', 7),\n",
              " ('this,', 239),\n",
              " ('19', 1),\n",
              " ('blunt', 21),\n",
              " (\"lion's\", 20),\n",
              " ('paws,', 1),\n",
              " ('earth', 138),\n",
              " ('Pluck', 21),\n",
              " ('keen', 17),\n",
              " ('teeth', 28),\n",
              " (\"whate'er\", 11),\n",
              " ('heinous', 14),\n",
              " ('carve', 8),\n",
              " ('draw', 157),\n",
              " ('there', 914),\n",
              " ('Him', 25),\n",
              " ('allow,', 3),\n",
              " ('pattern', 11),\n",
              " ('succeeding', 4),\n",
              " ('worst', 65),\n",
              " ('Time:', 1),\n",
              " ('despite', 34),\n",
              " ('ever', 510),\n",
              " ('20', 1),\n",
              " ('painted,', 6),\n",
              " ('Hast', 58),\n",
              " ('master', 202),\n",
              " ('passion,', 22),\n",
              " ('heart', 526),\n",
              " ('acquainted', 34),\n",
              " ('shifting', 2),\n",
              " (\"women's\", 20),\n",
              " ('fashion,', 25),\n",
              " ('rolling:', 1),\n",
              " ('whereupon', 10),\n",
              " ('gazeth,', 1),\n",
              " ('hue', 13),\n",
              " ('controlling,', 1),\n",
              " (\"men's\", 82),\n",
              " ('souls', 64),\n",
              " ('amazeth.', 1),\n",
              " ('created,', 2),\n",
              " ('a-doting,', 1),\n",
              " ('pricked', 1),\n",
              " ('treasure.', 6),\n",
              " ('21', 1),\n",
              " ('verse,', 8),\n",
              " ('ornament', 9),\n",
              " ('rehearse,', 3),\n",
              " ('sun', 129),\n",
              " ('gems:', 1),\n",
              " (\"April's\", 3),\n",
              " ('first-born', 6),\n",
              " ('things', 249),\n",
              " ('rare,', 10),\n",
              " ('rondure', 1),\n",
              " ('truly', 77),\n",
              " ('write,', 13),\n",
              " ('air:', 1),\n",
              " ('hearsay', 1),\n",
              " ('well,', 223),\n",
              " ('22', 1),\n",
              " ('am', 1995),\n",
              " ('date,', 2),\n",
              " (\"time's\", 20),\n",
              " ('furrows', 1),\n",
              " ('behold,', 12),\n",
              " ('expiate.', 2),\n",
              " ('elder', 28),\n",
              " ('art?', 3),\n",
              " ('wary,', 3),\n",
              " ('Bearing', 10),\n",
              " ('nurse', 21),\n",
              " ('ill.', 22),\n",
              " ('Presume', 2),\n",
              " (\"gav'st\", 12),\n",
              " ('actor', 9),\n",
              " ('stage,', 11),\n",
              " ('put', 436),\n",
              " ('part,', 89),\n",
              " ('replete', 7),\n",
              " ('weakens', 1),\n",
              " ('trust,', 19),\n",
              " ('perfect', 43),\n",
              " ('ceremony', 12),\n",
              " ('rite,', 2),\n",
              " ('strength', 76),\n",
              " (\"O'ercharged\", 1),\n",
              " ('burthen', 5),\n",
              " ('might:', 2),\n",
              " ('eloquence,', 4),\n",
              " ('breast,', 30),\n",
              " ('plead', 34),\n",
              " ('recompense,', 3),\n",
              " ('hear', 654),\n",
              " ('belongs', 14),\n",
              " ('fine', 67),\n",
              " ('24', 1),\n",
              " ('played', 7),\n",
              " ('stelled,', 1),\n",
              " (\"'tis\", 731),\n",
              " ('held,', 5),\n",
              " ('pictured', 1),\n",
              " ('shop', 9),\n",
              " ('hanging', 21),\n",
              " ('glazed', 3),\n",
              " ('good', 2046),\n",
              " ('turns', 41),\n",
              " ('done,', 141),\n",
              " ('shape,', 16),\n",
              " ('Delights', 1),\n",
              " ('therein', 40),\n",
              " ('thee;', 135),\n",
              " ('grace', 163),\n",
              " ('know', 1340),\n",
              " ('stars,', 19),\n",
              " ('boast,', 4),\n",
              " ('Whilst', 55),\n",
              " ('bars', 12),\n",
              " ('most;', 3),\n",
              " ('Great', 70),\n",
              " ('pride', 55),\n",
              " ('buried,', 5),\n",
              " ('frown', 24),\n",
              " ('glory', 61),\n",
              " ('painful', 6),\n",
              " ('fight,', 42),\n",
              " ('victories', 3),\n",
              " ('once', 283),\n",
              " ('foiled,', 1),\n",
              " ('book', 47),\n",
              " ('quite,', 10),\n",
              " ('rest', 190),\n",
              " ('forgot', 54),\n",
              " ('toiled:', 1),\n",
              " ('remove', 18),\n",
              " ('26', 1),\n",
              " ('Lord', 547),\n",
              " ('duty', 89),\n",
              " ('strongly', 24),\n",
              " ('knit;', 2),\n",
              " ('embassage', 4),\n",
              " ('witness', 74),\n",
              " ('poor', 506),\n",
              " ('May', 198),\n",
              " ('bare,', 4),\n",
              " ('wanting', 13),\n",
              " (\"soul's\", 21),\n",
              " ('thought', 281),\n",
              " ('(all', 4),\n",
              " ('whatsoever', 11),\n",
              " ('aspect,', 7),\n",
              " ('loving,', 7),\n",
              " ('dare', 176),\n",
              " ('then,', 344),\n",
              " ('head', 244),\n",
              " ('toil,', 11),\n",
              " ('haste', 72),\n",
              " ('begins', 46),\n",
              " ('journey', 12),\n",
              " (\"body's\", 23),\n",
              " ('far', 234),\n",
              " ('abide)', 1),\n",
              " ('Intend', 3),\n",
              " ('zealous', 6),\n",
              " ('pilgrimage', 4),\n",
              " ('drooping', 9),\n",
              " ('open', 97),\n",
              " ('wide,', 2),\n",
              " ...]"
            ]
          },
          "metadata": {},
          "execution_count": 25
        }
      ]
    },
    {
      "cell_type": "code",
      "metadata": {
        "id": "BvvVvsKg7Q6b",
        "colab": {
          "base_uri": "https://localhost:8080/"
        },
        "outputId": "ffd1d61c-41e9-43d7-ae44-5b5370c8f7ba"
      },
      "source": [
        "wordCounts.first()"
      ],
      "execution_count": null,
      "outputs": [
        {
          "output_type": "execute_result",
          "data": {
            "text/plain": [
              "('is', 7851)"
            ]
          },
          "metadata": {},
          "execution_count": 26
        }
      ]
    },
    {
      "cell_type": "markdown",
      "metadata": {
        "id": "kRVSf_Ciqu5o"
      },
      "source": [
        "Partie II "
      ]
    },
    {
      "cell_type": "code",
      "metadata": {
        "id": "5mmhG86_qwdm"
      },
      "source": [
        "rdd = sc.textFile(\"/content/sample_data/blogtexts\") "
      ],
      "execution_count": null,
      "outputs": []
    },
    {
      "cell_type": "markdown",
      "metadata": {
        "id": "pK6TJuw-nR5G"
      },
      "source": [
        "map et flatmap "
      ]
    },
    {
      "cell_type": "code",
      "metadata": {
        "colab": {
          "base_uri": "https://localhost:8080/",
          "height": 816
        },
        "id": "tRt_K24XpYSv",
        "outputId": "4d83c05c-e82e-41bb-f6e8-ee32264046d9"
      },
      "source": [
        "rdd.take(5)"
      ],
      "execution_count": null,
      "outputs": [
        {
          "output_type": "error",
          "ename": "Py4JJavaError",
          "evalue": "ignored",
          "traceback": [
            "\u001b[0;31m---------------------------------------------------------------------------\u001b[0m",
            "\u001b[0;31mPy4JJavaError\u001b[0m                             Traceback (most recent call last)",
            "\u001b[0;32m<ipython-input-29-3d4ab57af911>\u001b[0m in \u001b[0;36m<module>\u001b[0;34m()\u001b[0m\n\u001b[0;32m----> 1\u001b[0;31m \u001b[0mrdd\u001b[0m\u001b[0;34m.\u001b[0m\u001b[0mtake\u001b[0m\u001b[0;34m(\u001b[0m\u001b[0;36m5\u001b[0m\u001b[0;34m)\u001b[0m\u001b[0;34m\u001b[0m\u001b[0;34m\u001b[0m\u001b[0m\n\u001b[0m",
            "\u001b[0;32m/usr/local/lib/python3.7/dist-packages/pyspark/rdd.py\u001b[0m in \u001b[0;36mtake\u001b[0;34m(self, num)\u001b[0m\n\u001b[1;32m   1533\u001b[0m         \"\"\"\n\u001b[1;32m   1534\u001b[0m         \u001b[0mitems\u001b[0m \u001b[0;34m=\u001b[0m \u001b[0;34m[\u001b[0m\u001b[0;34m]\u001b[0m\u001b[0;34m\u001b[0m\u001b[0;34m\u001b[0m\u001b[0m\n\u001b[0;32m-> 1535\u001b[0;31m         \u001b[0mtotalParts\u001b[0m \u001b[0;34m=\u001b[0m \u001b[0mself\u001b[0m\u001b[0;34m.\u001b[0m\u001b[0mgetNumPartitions\u001b[0m\u001b[0;34m(\u001b[0m\u001b[0;34m)\u001b[0m\u001b[0;34m\u001b[0m\u001b[0;34m\u001b[0m\u001b[0m\n\u001b[0m\u001b[1;32m   1536\u001b[0m         \u001b[0mpartsScanned\u001b[0m \u001b[0;34m=\u001b[0m \u001b[0;36m0\u001b[0m\u001b[0;34m\u001b[0m\u001b[0;34m\u001b[0m\u001b[0m\n\u001b[1;32m   1537\u001b[0m \u001b[0;34m\u001b[0m\u001b[0m\n",
            "\u001b[0;32m/usr/local/lib/python3.7/dist-packages/pyspark/rdd.py\u001b[0m in \u001b[0;36mgetNumPartitions\u001b[0;34m(self)\u001b[0m\n\u001b[1;32m    464\u001b[0m         \u001b[0;36m2\u001b[0m\u001b[0;34m\u001b[0m\u001b[0;34m\u001b[0m\u001b[0m\n\u001b[1;32m    465\u001b[0m         \"\"\"\n\u001b[0;32m--> 466\u001b[0;31m         \u001b[0;32mreturn\u001b[0m \u001b[0mself\u001b[0m\u001b[0;34m.\u001b[0m\u001b[0m_jrdd\u001b[0m\u001b[0;34m.\u001b[0m\u001b[0mpartitions\u001b[0m\u001b[0;34m(\u001b[0m\u001b[0;34m)\u001b[0m\u001b[0;34m.\u001b[0m\u001b[0msize\u001b[0m\u001b[0;34m(\u001b[0m\u001b[0;34m)\u001b[0m\u001b[0;34m\u001b[0m\u001b[0;34m\u001b[0m\u001b[0m\n\u001b[0m\u001b[1;32m    467\u001b[0m \u001b[0;34m\u001b[0m\u001b[0m\n\u001b[1;32m    468\u001b[0m     \u001b[0;32mdef\u001b[0m \u001b[0mfilter\u001b[0m\u001b[0;34m(\u001b[0m\u001b[0mself\u001b[0m\u001b[0;34m,\u001b[0m \u001b[0mf\u001b[0m\u001b[0;34m)\u001b[0m\u001b[0;34m:\u001b[0m\u001b[0;34m\u001b[0m\u001b[0;34m\u001b[0m\u001b[0m\n",
            "\u001b[0;32m/usr/local/lib/python3.7/dist-packages/py4j/java_gateway.py\u001b[0m in \u001b[0;36m__call__\u001b[0;34m(self, *args)\u001b[0m\n\u001b[1;32m   1308\u001b[0m         \u001b[0manswer\u001b[0m \u001b[0;34m=\u001b[0m \u001b[0mself\u001b[0m\u001b[0;34m.\u001b[0m\u001b[0mgateway_client\u001b[0m\u001b[0;34m.\u001b[0m\u001b[0msend_command\u001b[0m\u001b[0;34m(\u001b[0m\u001b[0mcommand\u001b[0m\u001b[0;34m)\u001b[0m\u001b[0;34m\u001b[0m\u001b[0;34m\u001b[0m\u001b[0m\n\u001b[1;32m   1309\u001b[0m         return_value = get_return_value(\n\u001b[0;32m-> 1310\u001b[0;31m             answer, self.gateway_client, self.target_id, self.name)\n\u001b[0m\u001b[1;32m   1311\u001b[0m \u001b[0;34m\u001b[0m\u001b[0m\n\u001b[1;32m   1312\u001b[0m         \u001b[0;32mfor\u001b[0m \u001b[0mtemp_arg\u001b[0m \u001b[0;32min\u001b[0m \u001b[0mtemp_args\u001b[0m\u001b[0;34m:\u001b[0m\u001b[0;34m\u001b[0m\u001b[0;34m\u001b[0m\u001b[0m\n",
            "\u001b[0;32m/usr/local/lib/python3.7/dist-packages/py4j/protocol.py\u001b[0m in \u001b[0;36mget_return_value\u001b[0;34m(answer, gateway_client, target_id, name)\u001b[0m\n\u001b[1;32m    326\u001b[0m                 raise Py4JJavaError(\n\u001b[1;32m    327\u001b[0m                     \u001b[0;34m\"An error occurred while calling {0}{1}{2}.\\n\"\u001b[0m\u001b[0;34m.\u001b[0m\u001b[0;34m\u001b[0m\u001b[0;34m\u001b[0m\u001b[0m\n\u001b[0;32m--> 328\u001b[0;31m                     format(target_id, \".\", name), value)\n\u001b[0m\u001b[1;32m    329\u001b[0m             \u001b[0;32melse\u001b[0m\u001b[0;34m:\u001b[0m\u001b[0;34m\u001b[0m\u001b[0;34m\u001b[0m\u001b[0m\n\u001b[1;32m    330\u001b[0m                 raise Py4JError(\n",
            "\u001b[0;31mPy4JJavaError\u001b[0m: An error occurred while calling o160.partitions.\n: org.apache.hadoop.mapred.InvalidInputException: Input path does not exist: file:/content/sample_data/blogtexts\n\tat org.apache.hadoop.mapred.FileInputFormat.singleThreadedListStatus(FileInputFormat.java:304)\n\tat org.apache.hadoop.mapred.FileInputFormat.listStatus(FileInputFormat.java:244)\n\tat org.apache.hadoop.mapred.FileInputFormat.getSplits(FileInputFormat.java:332)\n\tat org.apache.spark.rdd.HadoopRDD.getPartitions(HadoopRDD.scala:205)\n\tat org.apache.spark.rdd.RDD.$anonfun$partitions$2(RDD.scala:300)\n\tat scala.Option.getOrElse(Option.scala:189)\n\tat org.apache.spark.rdd.RDD.partitions(RDD.scala:296)\n\tat org.apache.spark.rdd.MapPartitionsRDD.getPartitions(MapPartitionsRDD.scala:49)\n\tat org.apache.spark.rdd.RDD.$anonfun$partitions$2(RDD.scala:300)\n\tat scala.Option.getOrElse(Option.scala:189)\n\tat org.apache.spark.rdd.RDD.partitions(RDD.scala:296)\n\tat org.apache.spark.api.java.JavaRDDLike.partitions(JavaRDDLike.scala:61)\n\tat org.apache.spark.api.java.JavaRDDLike.partitions$(JavaRDDLike.scala:61)\n\tat org.apache.spark.api.java.AbstractJavaRDDLike.partitions(JavaRDDLike.scala:45)\n\tat java.base/jdk.internal.reflect.NativeMethodAccessorImpl.invoke0(Native Method)\n\tat java.base/jdk.internal.reflect.NativeMethodAccessorImpl.invoke(NativeMethodAccessorImpl.java:62)\n\tat java.base/jdk.internal.reflect.DelegatingMethodAccessorImpl.invoke(DelegatingMethodAccessorImpl.java:43)\n\tat java.base/java.lang.reflect.Method.invoke(Method.java:566)\n\tat py4j.reflection.MethodInvoker.invoke(MethodInvoker.java:244)\n\tat py4j.reflection.ReflectionEngine.invoke(ReflectionEngine.java:357)\n\tat py4j.Gateway.invoke(Gateway.java:282)\n\tat py4j.commands.AbstractCommand.invokeMethod(AbstractCommand.java:132)\n\tat py4j.commands.CallCommand.execute(CallCommand.java:79)\n\tat py4j.ClientServerConnection.waitForCommands(ClientServerConnection.java:182)\n\tat py4j.ClientServerConnection.run(ClientServerConnection.java:106)\n\tat java.base/java.lang.Thread.run(Thread.java:829)\nCaused by: java.io.IOException: Input path does not exist: file:/content/sample_data/blogtexts\n\tat org.apache.hadoop.mapred.FileInputFormat.singleThreadedListStatus(FileInputFormat.java:278)\n\t... 25 more\n"
          ]
        }
      ]
    },
    {
      "cell_type": "code",
      "metadata": {
        "id": "hetuvbYOnYcY"
      },
      "source": [
        "def Func(lines):\n",
        "      lines = lines.lower()\n",
        "      lines = lines.split()\n",
        "      return lines"
      ],
      "execution_count": null,
      "outputs": []
    },
    {
      "cell_type": "code",
      "metadata": {
        "id": "v_BaNn7InmNn"
      },
      "source": [
        "rdd2 = rdd.map(Func)"
      ],
      "execution_count": null,
      "outputs": []
    },
    {
      "cell_type": "code",
      "metadata": {
        "id": "0iTbBR4drvdq"
      },
      "source": [
        "rdd3 = rdd.flatMap(Func)"
      ],
      "execution_count": null,
      "outputs": []
    },
    {
      "cell_type": "markdown",
      "metadata": {
        "id": "3Q-jevXinqg0"
      },
      "source": [
        "Action"
      ]
    },
    {
      "cell_type": "code",
      "metadata": {
        "id": "xseMry76pL2t"
      },
      "source": [
        "rdd3.take(3)"
      ],
      "execution_count": null,
      "outputs": []
    },
    {
      "cell_type": "code",
      "metadata": {
        "id": "rjNQuq-or4F5"
      },
      "source": [
        "rdd3.take(5)"
      ],
      "execution_count": null,
      "outputs": []
    },
    {
      "cell_type": "markdown",
      "metadata": {
        "id": "oqIGyqAnn2ji"
      },
      "source": [
        "Transformation 2 : Filter "
      ]
    },
    {
      "cell_type": "code",
      "metadata": {
        "id": "0eG6AOCGn5aQ"
      },
      "source": [
        "stopwords = ['is','am','are','the','for','a']"
      ],
      "execution_count": null,
      "outputs": []
    },
    {
      "cell_type": "code",
      "metadata": {
        "id": "qISZxHS0n7-i"
      },
      "source": [
        "rdd4 = rdd.filter(lambda x: x not in stopwords)"
      ],
      "execution_count": null,
      "outputs": []
    },
    {
      "cell_type": "code",
      "metadata": {
        "id": "RFX2-t7AoYwS"
      },
      "source": [
        "rdd4"
      ],
      "execution_count": null,
      "outputs": []
    },
    {
      "cell_type": "markdown",
      "metadata": {
        "id": "jAz4Hsgdoad1"
      },
      "source": [
        "Action"
      ]
    },
    {
      "cell_type": "code",
      "metadata": {
        "id": "FG022AepoAwt"
      },
      "source": [
        "rdd4.take(1)"
      ],
      "execution_count": null,
      "outputs": []
    },
    {
      "cell_type": "markdown",
      "metadata": {
        "id": "LskkiQaBsC4q"
      },
      "source": [
        "Transformation 3 : groupBy"
      ]
    },
    {
      "cell_type": "code",
      "metadata": {
        "id": "AVE160m3sPL1"
      },
      "source": [
        "rdd5 = rdd3.groupBy(lambda w: w[0:3])"
      ],
      "execution_count": null,
      "outputs": []
    },
    {
      "cell_type": "code",
      "metadata": {
        "id": "KsxITuzZscXe"
      },
      "source": [
        "for (k, v) in rdd5.take(12): print (k, list(v))"
      ],
      "execution_count": null,
      "outputs": []
    },
    {
      "cell_type": "markdown",
      "metadata": {
        "id": "Rxanzio4EYEO"
      },
      "source": [
        "groupByKey![groupbykey.png](data:image/png;base64,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)"
      ]
    },
    {
      "cell_type": "code",
      "metadata": {
        "id": "UVcMmmNzEU_0"
      },
      "source": [
        "rdd3_mapped = rdd3.map(lambda x: (x,1))\n",
        "rdd3_grouped = rdd3_mapped.groupByKey()"
      ],
      "execution_count": null,
      "outputs": []
    },
    {
      "cell_type": "code",
      "metadata": {
        "id": "ARm6B2YHEc7U"
      },
      "source": [
        "print(list((j[0], list(j[1])) for j in rdd3_grouped.take(5)))"
      ],
      "execution_count": null,
      "outputs": []
    },
    {
      "cell_type": "markdown",
      "metadata": {
        "id": "0Vx1DxWTIKn_"
      },
      "source": [
        "reducedByKey"
      ]
    },
    {
      "cell_type": "markdown",
      "metadata": {
        "id": "Eh4ezYMGJBfW"
      },
      "source": [
        "![reduceByKey-3.png](data:image/png;base64,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)"
      ]
    },
    {
      "cell_type": "code",
      "metadata": {
        "id": "yBbmrxvLEoyZ"
      },
      "source": [
        "rdd3_mapped.reduceByKey(lambda x,y: x+y).map(lambda x:(x[1],x[0])).sortByKey(False).take(10)"
      ],
      "execution_count": null,
      "outputs": []
    }
  ]
}